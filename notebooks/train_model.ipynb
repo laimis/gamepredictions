{
 "cells": [
  {
   "cell_type": "code",
   "execution_count": 1,
   "metadata": {},
   "outputs": [],
   "source": [
    "%matplotlib inline\n",
    "import matplotlib.pyplot as plt\n",
    "import seaborn as sns\n",
    "import pandas as pd\n",
    "import numpy as np\n",
    "\n",
    "sns.set()"
   ]
  },
  {
   "cell_type": "code",
   "execution_count": 2,
   "metadata": {},
   "outputs": [],
   "source": [
    "import common\n",
    "import importer"
   ]
  },
  {
   "cell_type": "code",
   "execution_count": 3,
   "metadata": {},
   "outputs": [],
   "source": [
    "output, stats = importer.generate_output_and_stats(2018, \"input\\\\2018.csv\", 6)"
   ]
  },
  {
   "cell_type": "code",
   "execution_count": 6,
   "metadata": {},
   "outputs": [
    {
     "data": {
      "text/plain": [
       "{'allowed': [40, 21, 30, 48, 34, 23],\n",
       " 'points': [48, 27, 27, 10, 29, 26],\n",
       " 'wins': [1, 1, 0, 0, 0, 1],\n",
       " 'yards': [529, 436, 455, 311, 512, 456]}"
      ]
     },
     "execution_count": 6,
     "metadata": {},
     "output_type": "execute_result"
    }
   ],
   "source": [
    "stats[\"Tampa Bay Buccaneers\"]"
   ]
  },
  {
   "cell_type": "code",
   "execution_count": 7,
   "metadata": {},
   "outputs": [
    {
     "data": {
      "text/plain": [
       "{'allowed': [23, 23, 31, 36, 17, 28, 45],\n",
       " 'points': [34, 34, 21, 37, 27, 21, 10],\n",
       " 'wins': [1, 1, 0, 1, 1, 0, 0],\n",
       " 'yards': [330, 373, 396, 407, 332, 275, 239]}"
      ]
     },
     "execution_count": 7,
     "metadata": {},
     "output_type": "execute_result"
    }
   ],
   "source": [
    "stats[\"Cincinnati Bengals\"]"
   ]
  },
  {
   "cell_type": "code",
   "execution_count": null,
   "metadata": {},
   "outputs": [],
   "source": [
    "data[data[\"home_pct\"] == data[\"away_pct\"]][\"home_win\"].describe()"
   ]
  },
  {
   "cell_type": "code",
   "execution_count": null,
   "metadata": {},
   "outputs": [],
   "source": [
    "data[data[\"home_pct\"] == 1][\"home_win\"].mean()"
   ]
  },
  {
   "cell_type": "code",
   "execution_count": 16,
   "metadata": {},
   "outputs": [],
   "source": [
    "data_2014 = pd.read_csv(\"input\\\\2014.csv\", names=(\"week\",\"day\",\"date\",\"time\",\"team1\",\"at\",\"team2\",\"type\",\"winner_pts\",\"losser_pts\",\"winner_yards\",\"winner_to\",\"losser_yards\",\"losser_to\"))"
   ]
  },
  {
   "cell_type": "code",
   "execution_count": 17,
   "metadata": {},
   "outputs": [
    {
     "data": {
      "text/plain": [
       "Index(['week', 'day', 'date', 'time', 'team1', 'at', 'team2', 'type',\n",
       "       'winner_pts', 'losser_pts', 'winner_yards', 'winner_to', 'losser_yards',\n",
       "       'losser_to'],\n",
       "      dtype='object')"
      ]
     },
     "execution_count": 17,
     "metadata": {},
     "output_type": "execute_result"
    }
   ],
   "source": [
    "data_2014.columns"
   ]
  },
  {
   "cell_type": "code",
   "execution_count": 26,
   "metadata": {},
   "outputs": [
    {
     "data": {
      "text/plain": [
       "394"
      ]
     },
     "execution_count": 26,
     "metadata": {},
     "output_type": "execute_result"
    }
   ],
   "source": [
    "data_2014[(data_2014[\"team1\"] == \"Seattle Seahawks\")][\"winner_pts\"].sum() + data_2014[(data_2014[\"team2\"] == \"Seattle Seahawks\")][\"losser_pts\"].sum()"
   ]
  },
  {
   "cell_type": "code",
   "execution_count": null,
   "metadata": {},
   "outputs": [],
   "source": []
  }
 ],
 "metadata": {
  "kernelspec": {
   "display_name": "Python 3",
   "language": "python",
   "name": "python3"
  },
  "language_info": {
   "codemirror_mode": {
    "name": "ipython",
    "version": 3
   },
   "file_extension": ".py",
   "mimetype": "text/x-python",
   "name": "python",
   "nbconvert_exporter": "python",
   "pygments_lexer": "ipython3",
   "version": "3.6.4"
  }
 },
 "nbformat": 4,
 "nbformat_minor": 2
}
