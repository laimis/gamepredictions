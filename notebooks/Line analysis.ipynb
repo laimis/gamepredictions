{
 "cells": [
  {
   "cell_type": "code",
   "execution_count": 236,
   "metadata": {},
   "outputs": [],
   "source": [
    "import pandas as pd\n",
    "import numpy as np\n",
    "import seaborn as sns\n",
    "import matplotlib.pyplot as plt\n",
    "import math\n",
    "\n",
    "%matplotlib inline"
   ]
  },
  {
   "cell_type": "code",
   "execution_count": 225,
   "metadata": {},
   "outputs": [
    {
     "data": {
      "text/plain": [
       "883"
      ]
     },
     "execution_count": 225,
     "metadata": {},
     "output_type": "execute_result"
    }
   ],
   "source": [
    "df = pd.read_csv(\"..\\\\input\\\\nba\\\\2018.csv\")\n",
    "len(df)"
   ]
  },
  {
   "cell_type": "code",
   "execution_count": 226,
   "metadata": {},
   "outputs": [
    {
     "data": {
      "text/plain": [
       "877"
      ]
     },
     "execution_count": 226,
     "metadata": {},
     "output_type": "execute_result"
    }
   ],
   "source": [
    "df_clean = df[~df.line_team.isna()]\n",
    "len(df_clean)"
   ]
  },
  {
   "cell_type": "code",
   "execution_count": 227,
   "metadata": {},
   "outputs": [
    {
     "data": {
      "text/html": [
       "<div>\n",
       "<style scoped>\n",
       "    .dataframe tbody tr th:only-of-type {\n",
       "        vertical-align: middle;\n",
       "    }\n",
       "\n",
       "    .dataframe tbody tr th {\n",
       "        vertical-align: top;\n",
       "    }\n",
       "\n",
       "    .dataframe thead th {\n",
       "        text-align: right;\n",
       "    }\n",
       "</style>\n",
       "<table border=\"1\" class=\"dataframe\">\n",
       "  <thead>\n",
       "    <tr style=\"text-align: right;\">\n",
       "      <th></th>\n",
       "      <th>date</th>\n",
       "      <th>away</th>\n",
       "      <th>away_fgm</th>\n",
       "      <th>away_fga</th>\n",
       "      <th>away_tpm</th>\n",
       "      <th>away_tpa</th>\n",
       "      <th>away_ftm</th>\n",
       "      <th>away_fta</th>\n",
       "      <th>away_oreb</th>\n",
       "      <th>away_dreb</th>\n",
       "      <th>...</th>\n",
       "      <th>home_oreb</th>\n",
       "      <th>home_dreb</th>\n",
       "      <th>home_assists</th>\n",
       "      <th>home_steals</th>\n",
       "      <th>home_blocks</th>\n",
       "      <th>home_turnovers</th>\n",
       "      <th>home_fouls</th>\n",
       "      <th>home_points</th>\n",
       "      <th>line_team</th>\n",
       "      <th>line_spread</th>\n",
       "    </tr>\n",
       "  </thead>\n",
       "  <tbody>\n",
       "    <tr>\n",
       "      <th>2</th>\n",
       "      <td>2018-10-17 00:00:00</td>\n",
       "      <td>mil</td>\n",
       "      <td>42</td>\n",
       "      <td>85</td>\n",
       "      <td>14</td>\n",
       "      <td>34</td>\n",
       "      <td>15</td>\n",
       "      <td>20</td>\n",
       "      <td>11</td>\n",
       "      <td>46</td>\n",
       "      <td>...</td>\n",
       "      <td>9</td>\n",
       "      <td>32</td>\n",
       "      <td>21</td>\n",
       "      <td>8</td>\n",
       "      <td>9</td>\n",
       "      <td>11</td>\n",
       "      <td>19</td>\n",
       "      <td>112</td>\n",
       "      <td>mil</td>\n",
       "      <td>-3.5</td>\n",
       "    </tr>\n",
       "    <tr>\n",
       "      <th>3</th>\n",
       "      <td>2018-10-17 00:00:00</td>\n",
       "      <td>brk</td>\n",
       "      <td>40</td>\n",
       "      <td>82</td>\n",
       "      <td>5</td>\n",
       "      <td>27</td>\n",
       "      <td>15</td>\n",
       "      <td>22</td>\n",
       "      <td>5</td>\n",
       "      <td>34</td>\n",
       "      <td>...</td>\n",
       "      <td>14</td>\n",
       "      <td>32</td>\n",
       "      <td>21</td>\n",
       "      <td>5</td>\n",
       "      <td>5</td>\n",
       "      <td>14</td>\n",
       "      <td>20</td>\n",
       "      <td>103</td>\n",
       "      <td>det</td>\n",
       "      <td>-6.0</td>\n",
       "    </tr>\n",
       "    <tr>\n",
       "      <th>4</th>\n",
       "      <td>2018-10-17 00:00:00</td>\n",
       "      <td>nop</td>\n",
       "      <td>52</td>\n",
       "      <td>98</td>\n",
       "      <td>10</td>\n",
       "      <td>25</td>\n",
       "      <td>17</td>\n",
       "      <td>22</td>\n",
       "      <td>14</td>\n",
       "      <td>40</td>\n",
       "      <td>...</td>\n",
       "      <td>8</td>\n",
       "      <td>29</td>\n",
       "      <td>21</td>\n",
       "      <td>8</td>\n",
       "      <td>7</td>\n",
       "      <td>11</td>\n",
       "      <td>22</td>\n",
       "      <td>112</td>\n",
       "      <td>hou</td>\n",
       "      <td>-8.0</td>\n",
       "    </tr>\n",
       "    <tr>\n",
       "      <th>5</th>\n",
       "      <td>2018-10-17 00:00:00</td>\n",
       "      <td>mem</td>\n",
       "      <td>25</td>\n",
       "      <td>84</td>\n",
       "      <td>10</td>\n",
       "      <td>29</td>\n",
       "      <td>23</td>\n",
       "      <td>28</td>\n",
       "      <td>7</td>\n",
       "      <td>21</td>\n",
       "      <td>...</td>\n",
       "      <td>13</td>\n",
       "      <td>44</td>\n",
       "      <td>29</td>\n",
       "      <td>2</td>\n",
       "      <td>7</td>\n",
       "      <td>20</td>\n",
       "      <td>24</td>\n",
       "      <td>111</td>\n",
       "      <td>ind</td>\n",
       "      <td>-7.5</td>\n",
       "    </tr>\n",
       "    <tr>\n",
       "      <th>6</th>\n",
       "      <td>2018-10-17 00:00:00</td>\n",
       "      <td>den</td>\n",
       "      <td>33</td>\n",
       "      <td>87</td>\n",
       "      <td>8</td>\n",
       "      <td>24</td>\n",
       "      <td>33</td>\n",
       "      <td>42</td>\n",
       "      <td>14</td>\n",
       "      <td>42</td>\n",
       "      <td>...</td>\n",
       "      <td>9</td>\n",
       "      <td>38</td>\n",
       "      <td>21</td>\n",
       "      <td>3</td>\n",
       "      <td>9</td>\n",
       "      <td>12</td>\n",
       "      <td>32</td>\n",
       "      <td>98</td>\n",
       "      <td>den</td>\n",
       "      <td>-2.5</td>\n",
       "    </tr>\n",
       "  </tbody>\n",
       "</table>\n",
       "<p>5 rows × 33 columns</p>\n",
       "</div>"
      ],
      "text/plain": [
       "                  date away  away_fgm  away_fga  away_tpm  away_tpa  away_ftm  \\\n",
       "2  2018-10-17 00:00:00  mil        42        85        14        34        15   \n",
       "3  2018-10-17 00:00:00  brk        40        82         5        27        15   \n",
       "4  2018-10-17 00:00:00  nop        52        98        10        25        17   \n",
       "5  2018-10-17 00:00:00  mem        25        84        10        29        23   \n",
       "6  2018-10-17 00:00:00  den        33        87         8        24        33   \n",
       "\n",
       "   away_fta  away_oreb  away_dreb     ...       home_oreb  home_dreb  \\\n",
       "2        20         11         46     ...               9         32   \n",
       "3        22          5         34     ...              14         32   \n",
       "4        22         14         40     ...               8         29   \n",
       "5        28          7         21     ...              13         44   \n",
       "6        42         14         42     ...               9         38   \n",
       "\n",
       "   home_assists  home_steals  home_blocks  home_turnovers home_fouls  \\\n",
       "2            21            8            9              11         19   \n",
       "3            21            5            5              14         20   \n",
       "4            21            8            7              11         22   \n",
       "5            29            2            7              20         24   \n",
       "6            21            3            9              12         32   \n",
       "\n",
       "   home_points  line_team  line_spread  \n",
       "2          112        mil         -3.5  \n",
       "3          103        det         -6.0  \n",
       "4          112        hou         -8.0  \n",
       "5          111        ind         -7.5  \n",
       "6           98        den         -2.5  \n",
       "\n",
       "[5 rows x 33 columns]"
      ]
     },
     "execution_count": 227,
     "metadata": {},
     "output_type": "execute_result"
    }
   ],
   "source": [
    "df_clean.head()"
   ]
  },
  {
   "cell_type": "code",
   "execution_count": 228,
   "metadata": {},
   "outputs": [
    {
     "name": "stderr",
     "output_type": "stream",
     "text": [
      "C:\\Users\\lsimu\\Anaconda3\\lib\\site-packages\\ipykernel_launcher.py:16: SettingWithCopyWarning: \n",
      "A value is trying to be set on a copy of a slice from a DataFrame.\n",
      "Try using .loc[row_indexer,col_indexer] = value instead\n",
      "\n",
      "See the caveats in the documentation: http://pandas.pydata.org/pandas-docs/stable/indexing.html#indexing-view-versus-copy\n",
      "  app.launch_new_instance()\n",
      "C:\\Users\\lsimu\\Anaconda3\\lib\\site-packages\\ipykernel_launcher.py:17: SettingWithCopyWarning: \n",
      "A value is trying to be set on a copy of a slice from a DataFrame.\n",
      "Try using .loc[row_indexer,col_indexer] = value instead\n",
      "\n",
      "See the caveats in the documentation: http://pandas.pydata.org/pandas-docs/stable/indexing.html#indexing-view-versus-copy\n",
      "C:\\Users\\lsimu\\Anaconda3\\lib\\site-packages\\ipykernel_launcher.py:18: SettingWithCopyWarning: \n",
      "A value is trying to be set on a copy of a slice from a DataFrame.\n",
      "Try using .loc[row_indexer,col_indexer] = value instead\n",
      "\n",
      "See the caveats in the documentation: http://pandas.pydata.org/pandas-docs/stable/indexing.html#indexing-view-versus-copy\n",
      "C:\\Users\\lsimu\\Anaconda3\\lib\\site-packages\\ipykernel_launcher.py:19: SettingWithCopyWarning: \n",
      "A value is trying to be set on a copy of a slice from a DataFrame.\n",
      "Try using .loc[row_indexer,col_indexer] = value instead\n",
      "\n",
      "See the caveats in the documentation: http://pandas.pydata.org/pandas-docs/stable/indexing.html#indexing-view-versus-copy\n"
     ]
    }
   ],
   "source": [
    "def get_winner(row):\n",
    "    if row.away_points > row.home_points:\n",
    "        return row.away\n",
    "    else:\n",
    "        return row.home\n",
    "    \n",
    "def is_line_correct(row):\n",
    "    if row.winner != row.line_team:\n",
    "        return False\n",
    "    \n",
    "    real_diff = abs(row.away_points - row.home_points)\n",
    "    pred_diff = abs(row.line_spread)\n",
    "    \n",
    "    return real_diff >= pred_diff\n",
    "    \n",
    "df_clean[\"winner\"] = df_clean.apply(get_winner, axis=1)\n",
    "df_clean[\"line_correct\"] = df_clean.apply(is_line_correct, axis=1)\n",
    "df_clean[\"diff\"] = (df_clean.away_points - df_clean.home_points).apply(lambda x: abs(x))\n",
    "df_clean[\"line_spread\"] = df_clean.line_spread.apply(lambda x: abs(x))"
   ]
  },
  {
   "cell_type": "code",
   "execution_count": 229,
   "metadata": {},
   "outputs": [
    {
     "data": {
      "text/html": [
       "<div>\n",
       "<style scoped>\n",
       "    .dataframe tbody tr th:only-of-type {\n",
       "        vertical-align: middle;\n",
       "    }\n",
       "\n",
       "    .dataframe tbody tr th {\n",
       "        vertical-align: top;\n",
       "    }\n",
       "\n",
       "    .dataframe thead th {\n",
       "        text-align: right;\n",
       "    }\n",
       "</style>\n",
       "<table border=\"1\" class=\"dataframe\">\n",
       "  <thead>\n",
       "    <tr style=\"text-align: right;\">\n",
       "      <th></th>\n",
       "      <th>away</th>\n",
       "      <th>away_points</th>\n",
       "      <th>home</th>\n",
       "      <th>home_points</th>\n",
       "      <th>winner</th>\n",
       "      <th>line_team</th>\n",
       "      <th>diff</th>\n",
       "      <th>line_spread</th>\n",
       "      <th>line_correct</th>\n",
       "    </tr>\n",
       "  </thead>\n",
       "  <tbody>\n",
       "    <tr>\n",
       "      <th>2</th>\n",
       "      <td>mil</td>\n",
       "      <td>113</td>\n",
       "      <td>cho</td>\n",
       "      <td>112</td>\n",
       "      <td>mil</td>\n",
       "      <td>mil</td>\n",
       "      <td>1</td>\n",
       "      <td>3.5</td>\n",
       "      <td>False</td>\n",
       "    </tr>\n",
       "    <tr>\n",
       "      <th>3</th>\n",
       "      <td>brk</td>\n",
       "      <td>100</td>\n",
       "      <td>det</td>\n",
       "      <td>103</td>\n",
       "      <td>det</td>\n",
       "      <td>det</td>\n",
       "      <td>3</td>\n",
       "      <td>6.0</td>\n",
       "      <td>False</td>\n",
       "    </tr>\n",
       "    <tr>\n",
       "      <th>4</th>\n",
       "      <td>nop</td>\n",
       "      <td>131</td>\n",
       "      <td>hou</td>\n",
       "      <td>112</td>\n",
       "      <td>nop</td>\n",
       "      <td>hou</td>\n",
       "      <td>19</td>\n",
       "      <td>8.0</td>\n",
       "      <td>False</td>\n",
       "    </tr>\n",
       "    <tr>\n",
       "      <th>5</th>\n",
       "      <td>mem</td>\n",
       "      <td>83</td>\n",
       "      <td>ind</td>\n",
       "      <td>111</td>\n",
       "      <td>ind</td>\n",
       "      <td>ind</td>\n",
       "      <td>28</td>\n",
       "      <td>7.5</td>\n",
       "      <td>True</td>\n",
       "    </tr>\n",
       "    <tr>\n",
       "      <th>6</th>\n",
       "      <td>den</td>\n",
       "      <td>107</td>\n",
       "      <td>lac</td>\n",
       "      <td>98</td>\n",
       "      <td>den</td>\n",
       "      <td>den</td>\n",
       "      <td>9</td>\n",
       "      <td>2.5</td>\n",
       "      <td>True</td>\n",
       "    </tr>\n",
       "  </tbody>\n",
       "</table>\n",
       "</div>"
      ],
      "text/plain": [
       "  away  away_points home  home_points winner line_team  diff  line_spread  \\\n",
       "2  mil          113  cho          112    mil       mil     1          3.5   \n",
       "3  brk          100  det          103    det       det     3          6.0   \n",
       "4  nop          131  hou          112    nop       hou    19          8.0   \n",
       "5  mem           83  ind          111    ind       ind    28          7.5   \n",
       "6  den          107  lac           98    den       den     9          2.5   \n",
       "\n",
       "   line_correct  \n",
       "2         False  \n",
       "3         False  \n",
       "4         False  \n",
       "5          True  \n",
       "6          True  "
      ]
     },
     "execution_count": 229,
     "metadata": {},
     "output_type": "execute_result"
    }
   ],
   "source": [
    "df_clean[[\"away\",\"away_points\",\"home\",\"home_points\", \"winner\", \"line_team\", \"diff\", \"line_spread\", \"line_correct\"]].head()"
   ]
  },
  {
   "cell_type": "code",
   "execution_count": 230,
   "metadata": {},
   "outputs": [
    {
     "data": {
      "text/plain": [
       "0.50513112884834666"
      ]
     },
     "execution_count": 230,
     "metadata": {},
     "output_type": "execute_result"
    }
   ],
   "source": [
    "df_clean.line_correct.mean()"
   ]
  },
  {
   "cell_type": "code",
   "execution_count": 231,
   "metadata": {},
   "outputs": [
    {
     "data": {
      "text/plain": [
       "0.67046750285062717"
      ]
     },
     "execution_count": 231,
     "metadata": {},
     "output_type": "execute_result"
    }
   ],
   "source": [
    "(df_clean.line_team == df_clean.winner).mean()"
   ]
  },
  {
   "cell_type": "code",
   "execution_count": 238,
   "metadata": {},
   "outputs": [
    {
     "data": {
      "image/png": "[encoded data removed]",
      "text/plain": [
       "<matplotlib.figure.Figure at 0x14ed53465f8>"
      ]
     },
     "metadata": {},
     "output_type": "display_data"
    }
   ],
   "source": [
    "def win_pct(df, b1, b2):\n",
    "    subset = df[(df.line_spread >= b1) & (df.line_spread < b2)]\n",
    "    return (subset.line_correct.mean(), len(subset))\n",
    "\n",
    "\n",
    "pcts = []\n",
    "xs = []\n",
    "lengths = []\n",
    "for x in range(0, 20, 2):\n",
    "    xs.append(abs(x))\n",
    "    pct,length = win_pct(df_clean, x, x+2)\n",
    "    if math.isnan(pct):\n",
    "        pct = 0\n",
    "    pcts.append(pct * 100)\n",
    "    lengths.append(length)\n",
    "    \n",
    "plt.figure(figsize=(16,10))\n",
    "plt.bar(height=pcts, x=xs);\n",
    "\n",
    "for i, pos in enumerate(xs):\n",
    "    val = pcts[i]\n",
    "    plt.text(pos, val + 1, lengths[i])"
   ]
  },
  {
   "cell_type": "code",
   "execution_count": 224,
   "metadata": {},
   "outputs": [
    {
     "data": {
      "image/png": "[encoded data removed]",
      "text/plain": [
       "<matplotlib.figure.Figure at 0x14ed0d0a5c0>"
      ]
     },
     "metadata": {},
     "output_type": "display_data"
    }
   ],
   "source": [
    "(df_clean[\"away_points\"] - df_clean[\"home_points\"]).hist(figsize=(16,10));"
   ]
  },
  {
   "cell_type": "code",
   "execution_count": 206,
   "metadata": {},
   "outputs": [
    {
     "data": {
      "image/png": "[encoded data removed]",
      "text/plain": [
       "<matplotlib.figure.Figure at 0x14ed521b470>"
      ]
     },
     "metadata": {},
     "output_type": "display_data"
    }
   ],
   "source": [
    "line_spread = df_clean.line_spread\n",
    "diff_spread = df_clean[\"diff\"]\n",
    "\n",
    "plt.figure(figsize=(16,10))\n",
    "plt.hist([diff_spread, line_spread], 30, label=['diff', 'line']);\n",
    "plt.legend(loc='upper right');"
   ]
  },
  {
   "cell_type": "code",
   "execution_count": 98,
   "metadata": {},
   "outputs": [
    {
     "data": {
      "image/png": "[encoded data removed]",
      "text/plain": [
       "<matplotlib.figure.Figure at 0x14ed44197b8>"
      ]
     },
     "metadata": {},
     "output_type": "display_data"
    }
   ],
   "source": [
    "plt.figure(figsize=(16,10))\n",
    "plt.hist([diff_spread], 30, label=['diff']);\n",
    "plt.legend(loc='upper right');"
   ]
  },
  {
   "cell_type": "markdown",
   "metadata": {},
   "source": [
    "- what do histograms look like for cases when lines are wrong\n",
    "- same as above but for cases when lines are correct"
   ]
  }
 ],
 "metadata": {
  "kernelspec": {
   "display_name": "Python 3",
   "language": "python",
   "name": "python3"
  },
  "language_info": {
   "codemirror_mode": {
    "name": "ipython",
    "version": 3
   },
   "file_extension": ".py",
   "mimetype": "text/x-python",
   "name": "python",
   "nbconvert_exporter": "python",
   "pygments_lexer": "ipython3",
   "version": "3.6.4"
  }
 },
 "nbformat": 4,
 "nbformat_minor": 2
}
