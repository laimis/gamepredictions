{
 "cells": [
  {
   "cell_type": "code",
   "execution_count": 15,
   "metadata": {},
   "outputs": [],
   "source": [
    "import pandas as pd\n",
    "import numpy as np\n",
    "import seaborn as sns\n",
    "import matplotlib.pyplot as plt\n",
    "import math\n",
    "\n",
    "%matplotlib inline"
   ]
  },
  {
   "cell_type": "code",
   "execution_count": 16,
   "metadata": {},
   "outputs": [
    {
     "data": {
      "text/plain": [
       "1212"
      ]
     },
     "execution_count": 16,
     "metadata": {},
     "output_type": "execute_result"
    }
   ],
   "source": [
    "df = pd.read_csv(\"..\\\\input\\\\nba\\\\2017.csv\")\n",
    "len(df)"
   ]
  },
  {
   "cell_type": "code",
   "execution_count": 17,
   "metadata": {},
   "outputs": [
    {
     "data": {
      "text/plain": [
       "1197"
      ]
     },
     "execution_count": 17,
     "metadata": {},
     "output_type": "execute_result"
    }
   ],
   "source": [
    "df_clean = df[~df.line_team.isna()]\n",
    "len(df_clean)"
   ]
  },
  {
   "cell_type": "code",
   "execution_count": 18,
   "metadata": {},
   "outputs": [
    {
     "data": {
      "text/html": [
       "<div>\n",
       "<style scoped>\n",
       "    .dataframe tbody tr th:only-of-type {\n",
       "        vertical-align: middle;\n",
       "    }\n",
       "\n",
       "    .dataframe tbody tr th {\n",
       "        vertical-align: top;\n",
       "    }\n",
       "\n",
       "    .dataframe thead th {\n",
       "        text-align: right;\n",
       "    }\n",
       "</style>\n",
       "<table border=\"1\" class=\"dataframe\">\n",
       "  <thead>\n",
       "    <tr style=\"text-align: right;\">\n",
       "      <th></th>\n",
       "      <th>date</th>\n",
       "      <th>away</th>\n",
       "      <th>away_fgm</th>\n",
       "      <th>away_fga</th>\n",
       "      <th>away_tpm</th>\n",
       "      <th>away_tpa</th>\n",
       "      <th>away_ftm</th>\n",
       "      <th>away_fta</th>\n",
       "      <th>away_oreb</th>\n",
       "      <th>away_dreb</th>\n",
       "      <th>...</th>\n",
       "      <th>home_oreb</th>\n",
       "      <th>home_dreb</th>\n",
       "      <th>home_assists</th>\n",
       "      <th>home_steals</th>\n",
       "      <th>home_blocks</th>\n",
       "      <th>home_turnovers</th>\n",
       "      <th>home_fouls</th>\n",
       "      <th>home_points</th>\n",
       "      <th>line_team</th>\n",
       "      <th>line_spread</th>\n",
       "    </tr>\n",
       "  </thead>\n",
       "  <tbody>\n",
       "    <tr>\n",
       "      <th>0</th>\n",
       "      <td>2017-10-17 00:00:00</td>\n",
       "      <td>bos</td>\n",
       "      <td>36</td>\n",
       "      <td>88</td>\n",
       "      <td>8</td>\n",
       "      <td>32</td>\n",
       "      <td>19</td>\n",
       "      <td>25</td>\n",
       "      <td>9</td>\n",
       "      <td>37</td>\n",
       "      <td>...</td>\n",
       "      <td>9</td>\n",
       "      <td>41</td>\n",
       "      <td>19</td>\n",
       "      <td>3</td>\n",
       "      <td>4</td>\n",
       "      <td>17</td>\n",
       "      <td>25</td>\n",
       "      <td>102</td>\n",
       "      <td>cle</td>\n",
       "      <td>-4.5</td>\n",
       "    </tr>\n",
       "    <tr>\n",
       "      <th>1</th>\n",
       "      <td>2017-10-17 00:00:00</td>\n",
       "      <td>hou</td>\n",
       "      <td>47</td>\n",
       "      <td>97</td>\n",
       "      <td>15</td>\n",
       "      <td>41</td>\n",
       "      <td>13</td>\n",
       "      <td>19</td>\n",
       "      <td>10</td>\n",
       "      <td>33</td>\n",
       "      <td>...</td>\n",
       "      <td>6</td>\n",
       "      <td>35</td>\n",
       "      <td>34</td>\n",
       "      <td>5</td>\n",
       "      <td>9</td>\n",
       "      <td>17</td>\n",
       "      <td>25</td>\n",
       "      <td>121</td>\n",
       "      <td>gsw</td>\n",
       "      <td>-9.5</td>\n",
       "    </tr>\n",
       "    <tr>\n",
       "      <th>2</th>\n",
       "      <td>2017-10-18 00:00:00</td>\n",
       "      <td>mil</td>\n",
       "      <td>38</td>\n",
       "      <td>76</td>\n",
       "      <td>7</td>\n",
       "      <td>21</td>\n",
       "      <td>25</td>\n",
       "      <td>30</td>\n",
       "      <td>6</td>\n",
       "      <td>39</td>\n",
       "      <td>...</td>\n",
       "      <td>11</td>\n",
       "      <td>32</td>\n",
       "      <td>23</td>\n",
       "      <td>12</td>\n",
       "      <td>2</td>\n",
       "      <td>12</td>\n",
       "      <td>27</td>\n",
       "      <td>100</td>\n",
       "      <td>bos</td>\n",
       "      <td>-1.5</td>\n",
       "    </tr>\n",
       "    <tr>\n",
       "      <th>3</th>\n",
       "      <td>2017-10-18 00:00:00</td>\n",
       "      <td>atl</td>\n",
       "      <td>48</td>\n",
       "      <td>94</td>\n",
       "      <td>9</td>\n",
       "      <td>18</td>\n",
       "      <td>12</td>\n",
       "      <td>15</td>\n",
       "      <td>14</td>\n",
       "      <td>36</td>\n",
       "      <td>...</td>\n",
       "      <td>9</td>\n",
       "      <td>32</td>\n",
       "      <td>27</td>\n",
       "      <td>5</td>\n",
       "      <td>4</td>\n",
       "      <td>15</td>\n",
       "      <td>19</td>\n",
       "      <td>111</td>\n",
       "      <td>dal</td>\n",
       "      <td>-5.5</td>\n",
       "    </tr>\n",
       "    <tr>\n",
       "      <th>4</th>\n",
       "      <td>2017-10-18 00:00:00</td>\n",
       "      <td>cho</td>\n",
       "      <td>29</td>\n",
       "      <td>73</td>\n",
       "      <td>9</td>\n",
       "      <td>30</td>\n",
       "      <td>23</td>\n",
       "      <td>29</td>\n",
       "      <td>3</td>\n",
       "      <td>44</td>\n",
       "      <td>...</td>\n",
       "      <td>9</td>\n",
       "      <td>38</td>\n",
       "      <td>24</td>\n",
       "      <td>14</td>\n",
       "      <td>3</td>\n",
       "      <td>8</td>\n",
       "      <td>21</td>\n",
       "      <td>102</td>\n",
       "      <td>det</td>\n",
       "      <td>-2.5</td>\n",
       "    </tr>\n",
       "  </tbody>\n",
       "</table>\n",
       "<p>5 rows × 33 columns</p>\n",
       "</div>"
      ],
      "text/plain": [
       "                  date away  away_fgm  away_fga  away_tpm  away_tpa  away_ftm  \\\n",
       "0  2017-10-17 00:00:00  bos        36        88         8        32        19   \n",
       "1  2017-10-17 00:00:00  hou        47        97        15        41        13   \n",
       "2  2017-10-18 00:00:00  mil        38        76         7        21        25   \n",
       "3  2017-10-18 00:00:00  atl        48        94         9        18        12   \n",
       "4  2017-10-18 00:00:00  cho        29        73         9        30        23   \n",
       "\n",
       "   away_fta  away_oreb  away_dreb     ...       home_oreb  home_dreb  \\\n",
       "0        25          9         37     ...               9         41   \n",
       "1        19         10         33     ...               6         35   \n",
       "2        30          6         39     ...              11         32   \n",
       "3        15         14         36     ...               9         32   \n",
       "4        29          3         44     ...               9         38   \n",
       "\n",
       "   home_assists  home_steals  home_blocks  home_turnovers home_fouls  \\\n",
       "0            19            3            4              17         25   \n",
       "1            34            5            9              17         25   \n",
       "2            23           12            2              12         27   \n",
       "3            27            5            4              15         19   \n",
       "4            24           14            3               8         21   \n",
       "\n",
       "   home_points  line_team  line_spread  \n",
       "0          102        cle         -4.5  \n",
       "1          121        gsw         -9.5  \n",
       "2          100        bos         -1.5  \n",
       "3          111        dal         -5.5  \n",
       "4          102        det         -2.5  \n",
       "\n",
       "[5 rows x 33 columns]"
      ]
     },
     "execution_count": 18,
     "metadata": {},
     "output_type": "execute_result"
    }
   ],
   "source": [
    "df_clean.head()"
   ]
  },
  {
   "cell_type": "code",
   "execution_count": 19,
   "metadata": {},
   "outputs": [
    {
     "name": "stderr",
     "output_type": "stream",
     "text": [
      "C:\\Users\\lsimu\\Anaconda3\\lib\\site-packages\\ipykernel_launcher.py:16: SettingWithCopyWarning: \n",
      "A value is trying to be set on a copy of a slice from a DataFrame.\n",
      "Try using .loc[row_indexer,col_indexer] = value instead\n",
      "\n",
      "See the caveats in the documentation: http://pandas.pydata.org/pandas-docs/stable/indexing.html#indexing-view-versus-copy\n",
      "  app.launch_new_instance()\n",
      "C:\\Users\\lsimu\\Anaconda3\\lib\\site-packages\\ipykernel_launcher.py:17: SettingWithCopyWarning: \n",
      "A value is trying to be set on a copy of a slice from a DataFrame.\n",
      "Try using .loc[row_indexer,col_indexer] = value instead\n",
      "\n",
      "See the caveats in the documentation: http://pandas.pydata.org/pandas-docs/stable/indexing.html#indexing-view-versus-copy\n",
      "C:\\Users\\lsimu\\Anaconda3\\lib\\site-packages\\ipykernel_launcher.py:18: SettingWithCopyWarning: \n",
      "A value is trying to be set on a copy of a slice from a DataFrame.\n",
      "Try using .loc[row_indexer,col_indexer] = value instead\n",
      "\n",
      "See the caveats in the documentation: http://pandas.pydata.org/pandas-docs/stable/indexing.html#indexing-view-versus-copy\n",
      "C:\\Users\\lsimu\\Anaconda3\\lib\\site-packages\\ipykernel_launcher.py:19: SettingWithCopyWarning: \n",
      "A value is trying to be set on a copy of a slice from a DataFrame.\n",
      "Try using .loc[row_indexer,col_indexer] = value instead\n",
      "\n",
      "See the caveats in the documentation: http://pandas.pydata.org/pandas-docs/stable/indexing.html#indexing-view-versus-copy\n"
     ]
    }
   ],
   "source": [
    "def get_winner(row):\n",
    "    if row.away_points > row.home_points:\n",
    "        return row.away\n",
    "    else:\n",
    "        return row.home\n",
    "    \n",
    "def is_line_correct(row):\n",
    "    if row.winner != row.line_team:\n",
    "        return False\n",
    "    \n",
    "    real_diff = abs(row.away_points - row.home_points)\n",
    "    pred_diff = abs(row.line_spread)\n",
    "    \n",
    "    return real_diff >= pred_diff\n",
    "    \n",
    "df_clean[\"winner\"] = df_clean.apply(get_winner, axis=1)\n",
    "df_clean[\"line_correct\"] = df_clean.apply(is_line_correct, axis=1)\n",
    "df_clean[\"diff\"] = (df_clean.away_points - df_clean.home_points).apply(lambda x: abs(x))\n",
    "df_clean[\"line_spread\"] = df_clean.line_spread.apply(lambda x: abs(x))"
   ]
  },
  {
   "cell_type": "code",
   "execution_count": 20,
   "metadata": {},
   "outputs": [
    {
     "data": {
      "text/html": [
       "<div>\n",
       "<style scoped>\n",
       "    .dataframe tbody tr th:only-of-type {\n",
       "        vertical-align: middle;\n",
       "    }\n",
       "\n",
       "    .dataframe tbody tr th {\n",
       "        vertical-align: top;\n",
       "    }\n",
       "\n",
       "    .dataframe thead th {\n",
       "        text-align: right;\n",
       "    }\n",
       "</style>\n",
       "<table border=\"1\" class=\"dataframe\">\n",
       "  <thead>\n",
       "    <tr style=\"text-align: right;\">\n",
       "      <th></th>\n",
       "      <th>away</th>\n",
       "      <th>away_points</th>\n",
       "      <th>home</th>\n",
       "      <th>home_points</th>\n",
       "      <th>winner</th>\n",
       "      <th>line_team</th>\n",
       "      <th>diff</th>\n",
       "      <th>line_spread</th>\n",
       "      <th>line_correct</th>\n",
       "    </tr>\n",
       "  </thead>\n",
       "  <tbody>\n",
       "    <tr>\n",
       "      <th>0</th>\n",
       "      <td>bos</td>\n",
       "      <td>99</td>\n",
       "      <td>cle</td>\n",
       "      <td>102</td>\n",
       "      <td>cle</td>\n",
       "      <td>cle</td>\n",
       "      <td>3</td>\n",
       "      <td>4.5</td>\n",
       "      <td>False</td>\n",
       "    </tr>\n",
       "    <tr>\n",
       "      <th>1</th>\n",
       "      <td>hou</td>\n",
       "      <td>122</td>\n",
       "      <td>gsw</td>\n",
       "      <td>121</td>\n",
       "      <td>hou</td>\n",
       "      <td>gsw</td>\n",
       "      <td>1</td>\n",
       "      <td>9.5</td>\n",
       "      <td>False</td>\n",
       "    </tr>\n",
       "    <tr>\n",
       "      <th>2</th>\n",
       "      <td>mil</td>\n",
       "      <td>108</td>\n",
       "      <td>bos</td>\n",
       "      <td>100</td>\n",
       "      <td>mil</td>\n",
       "      <td>bos</td>\n",
       "      <td>8</td>\n",
       "      <td>1.5</td>\n",
       "      <td>False</td>\n",
       "    </tr>\n",
       "    <tr>\n",
       "      <th>3</th>\n",
       "      <td>atl</td>\n",
       "      <td>117</td>\n",
       "      <td>dal</td>\n",
       "      <td>111</td>\n",
       "      <td>atl</td>\n",
       "      <td>dal</td>\n",
       "      <td>6</td>\n",
       "      <td>5.5</td>\n",
       "      <td>False</td>\n",
       "    </tr>\n",
       "    <tr>\n",
       "      <th>4</th>\n",
       "      <td>cho</td>\n",
       "      <td>90</td>\n",
       "      <td>det</td>\n",
       "      <td>102</td>\n",
       "      <td>det</td>\n",
       "      <td>det</td>\n",
       "      <td>12</td>\n",
       "      <td>2.5</td>\n",
       "      <td>True</td>\n",
       "    </tr>\n",
       "  </tbody>\n",
       "</table>\n",
       "</div>"
      ],
      "text/plain": [
       "  away  away_points home  home_points winner line_team  diff  line_spread  \\\n",
       "0  bos           99  cle          102    cle       cle     3          4.5   \n",
       "1  hou          122  gsw          121    hou       gsw     1          9.5   \n",
       "2  mil          108  bos          100    mil       bos     8          1.5   \n",
       "3  atl          117  dal          111    atl       dal     6          5.5   \n",
       "4  cho           90  det          102    det       det    12          2.5   \n",
       "\n",
       "   line_correct  \n",
       "0         False  \n",
       "1         False  \n",
       "2         False  \n",
       "3         False  \n",
       "4          True  "
      ]
     },
     "execution_count": 20,
     "metadata": {},
     "output_type": "execute_result"
    }
   ],
   "source": [
    "df_clean[[\"away\",\"away_points\",\"home\",\"home_points\", \"winner\", \"line_team\", \"diff\", \"line_spread\", \"line_correct\"]].head()"
   ]
  },
  {
   "cell_type": "code",
   "execution_count": 21,
   "metadata": {},
   "outputs": [
    {
     "data": {
      "text/plain": [
       "0.49958228905597324"
      ]
     },
     "execution_count": 21,
     "metadata": {},
     "output_type": "execute_result"
    }
   ],
   "source": [
    "df_clean.line_correct.mean()"
   ]
  },
  {
   "cell_type": "code",
   "execution_count": 22,
   "metadata": {},
   "outputs": [
    {
     "data": {
      "text/plain": [
       "0.68337510442773597"
      ]
     },
     "execution_count": 22,
     "metadata": {},
     "output_type": "execute_result"
    }
   ],
   "source": [
    "(df_clean.line_team == df_clean.winner).mean()"
   ]
  },
  {
   "cell_type": "code",
   "execution_count": 23,
   "metadata": {},
   "outputs": [
    {
     "data": {
      "image/png": "[encoded data removed]",
      "text/plain": [
       "<matplotlib.figure.Figure at 0x1f435a21550>"
      ]
     },
     "metadata": {},
     "output_type": "display_data"
    }
   ],
   "source": [
    "def win_pct(df, b1, b2):\n",
    "    subset = df[(df.line_spread >= b1) & (df.line_spread < b2)]\n",
    "    return (subset.line_correct.mean(), len(subset))\n",
    "\n",
    "\n",
    "pcts = []\n",
    "xs = []\n",
    "lengths = []\n",
    "for x in range(0, 20, 2):\n",
    "    xs.append(abs(x))\n",
    "    pct,length = win_pct(df_clean, x, x+2)\n",
    "    if math.isnan(pct):\n",
    "        pct = 0\n",
    "    pcts.append(pct * 100)\n",
    "    lengths.append(length)\n",
    "    \n",
    "plt.figure(figsize=(16,10))\n",
    "plt.bar(height=pcts, x=xs);\n",
    "\n",
    "for i, pos in enumerate(xs):\n",
    "    val = pcts[i]\n",
    "    plt.text(pos, val + 1, lengths[i])\n",
    "    \n",
    "plt.axhline(50, c='r');"
   ]
  },
  {
   "cell_type": "code",
   "execution_count": 224,
   "metadata": {},
   "outputs": [
    {
     "data": {
      "image/png": "[encoded data removed]",
      "text/plain": [
       "<matplotlib.figure.Figure at 0x14ed0d0a5c0>"
      ]
     },
     "metadata": {},
     "output_type": "display_data"
    }
   ],
   "source": [
    "(df_clean[\"away_points\"] - df_clean[\"home_points\"]).hist(figsize=(16,10));"
   ]
  },
  {
   "cell_type": "code",
   "execution_count": 24,
   "metadata": {},
   "outputs": [
    {
     "data": {
      "image/png": "[encoded data removed]",
      "text/plain": [
       "<matplotlib.figure.Figure at 0x1f434169518>"
      ]
     },
     "metadata": {},
     "output_type": "display_data"
    }
   ],
   "source": [
    "line_spread = df_clean.line_spread\n",
    "diff_spread = df_clean[\"diff\"]\n",
    "\n",
    "plt.figure(figsize=(16,10))\n",
    "plt.hist([diff_spread, line_spread], 30, label=['life', 'line']);\n",
    "plt.legend(loc='upper right');"
   ]
  },
  {
   "cell_type": "code",
   "execution_count": 98,
   "metadata": {},
   "outputs": [
    {
     "data": {
      "image/png": "[encoded data removed]",
      "text/plain": [
       "<matplotlib.figure.Figure at 0x14ed44197b8>"
      ]
     },
     "metadata": {},
     "output_type": "display_data"
    }
   ],
   "source": [
    "plt.figure(figsize=(16,10))\n",
    "plt.hist([diff_spread], 30, label=['diff']);\n",
    "plt.legend(loc='upper right');"
   ]
  },
  {
   "cell_type": "markdown",
   "metadata": {},
   "source": [
    "- what do histograms look like for cases when lines are wrong\n",
    "- same as above but for cases when lines are correct"
   ]
  }
 ],
 "metadata": {
  "kernelspec": {
   "display_name": "Python 3",
   "language": "python",
   "name": "python3"
  },
  "language_info": {
   "codemirror_mode": {
    "name": "ipython",
    "version": 3
   },
   "file_extension": ".py",
   "mimetype": "text/x-python",
   "name": "python",
   "nbconvert_exporter": "python",
   "pygments_lexer": "ipython3",
   "version": "3.6.4"
  }
 },
 "nbformat": 4,
 "nbformat_minor": 2
}
