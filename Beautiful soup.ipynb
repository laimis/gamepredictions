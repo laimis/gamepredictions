{
 "cells": [
  {
   "cell_type": "code",
   "execution_count": 2,
   "metadata": {},
   "outputs": [],
   "source": [
    "from bs4 import BeautifulSoup\n",
    "import urllib.request"
   ]
  },
  {
   "cell_type": "code",
   "execution_count": 24,
   "metadata": {},
   "outputs": [],
   "source": [
    "class BoxScoreEntry:\n",
    "    def __init__(self, team, name, columns):\n",
    "        \n",
    "        self.team = team\n",
    "        self.name = name\n",
    "        \n",
    "        self.minutes = columns[0].contents[0]\n",
    "        \n",
    "        self.field_goals_made = columns[1].contents[0]\n",
    "        self.field_goals_attemped = columns[2].contents[0]\n",
    "\n",
    "        self.threes_made = columns[4].contents[0]\n",
    "        self.threes_attempted = columns[5].contents[0]\n",
    "\n",
    "        self.free_throws_made = columns[7].contents[0]\n",
    "        self.free_throws_attempted = columns[8].contents[0]\n",
    "\n",
    "        self.offensive_rebounds = columns[10].contents[0]\n",
    "        self.defensive_rebounds = columns[11].contents[0]\n",
    "        \n",
    "        self.assists = columns[13].contents[0]\n",
    "        self.steals = columns[14].contents[0]\n",
    "        self.blocks = columns[15].contents[0]\n",
    "        self.turnovers = columns[16].contents[0]\n",
    "        self.personal_fouls = columns[17].contents[0]\n",
    "        self.points = columns[18].contents[0]"
   ]
  },
  {
   "cell_type": "code",
   "execution_count": 31,
   "metadata": {},
   "outputs": [],
   "source": [
    "ref_url = \"https://www.basketball-reference.com\"\n",
    "\n",
    "def get_boxscore_links(year, month, day):\n",
    "    \n",
    "    links = []\n",
    "    \n",
    "    with urllib.request.urlopen(f\"{ref_url}/boxscores/?month={month}&day={day}&year={year}\") as response:\n",
    "        html = response.read()\n",
    "        soup = BeautifulSoup(html, 'html.parser')\n",
    "        \n",
    "        for anchor in [x for x in soup.find_all('a') if x.get('href').startswith(\"/boxscores/2018\") ]:\n",
    "            href = anchor.get(\"href\")\n",
    "            \n",
    "            if href not in links:\n",
    "                links.append(href)\n",
    "        \n",
    "    return links\n",
    "\n",
    "def get_boxscore_details(soup):\n",
    "    \n",
    "    def skip_box_score_row(r):\n",
    "        row_text = r.get_text()\n",
    "        return \"Basic Box\" in row_text \\\n",
    "                or \"Advanced Box\" in row_text \\\n",
    "                or \"Starters\" in row_text \\\n",
    "                or \"Reserves\" in row_text \\\n",
    "                or \"Team Totals\" in row_text\n",
    "\n",
    "    for table in soup.find_all('table'):\n",
    "\n",
    "        # box score tables start with ids like box_mil_basic, box_mil_advanced, etc\n",
    "        if \"id\" not in table.attrs:\n",
    "            continue\n",
    "\n",
    "        table_id = table[\"id\"]\n",
    "        \n",
    "        if not table_id.startswith(\"box_\"):\n",
    "            continue\n",
    "            \n",
    "        if table_id.endswith(\"_advanced\"):\n",
    "            continue\n",
    "            \n",
    "        print(table_id)\n",
    "            \n",
    "        team_name = table_id.replace(\"box_\", \"\").replace(\"_basic\", \"\")\n",
    "        \n",
    "        print(team_name)\n",
    "\n",
    "        for r in table.find_all('tr'):\n",
    "\n",
    "            # skip rows that are separators\n",
    "            if skip_box_score_row(r):\n",
    "                continue\n",
    "\n",
    "            name = r.find(\"th\").find(\"a\").contents[0]\n",
    "            columns = r.find_all(\"td\")\n",
    "\n",
    "            entry = BoxScoreEntry(team_name, name, columns)\n",
    "            \n",
    "            print(entry.name,entry.points)"
   ]
  },
  {
   "cell_type": "code",
   "execution_count": 32,
   "metadata": {},
   "outputs": [
    {
     "name": "stdout",
     "output_type": "stream",
     "text": [
      "box_mil_basic\n",
      "mil\n",
      "Khris Middleton 17\n",
      "Giannis Antetokounmpo 24\n",
      "Eric Bledsoe 26\n",
      "Malcolm Brogdon 20\n",
      "Brook Lopez 2\n",
      "Ersan Ilyasova 5\n",
      "Pat Connaughton 15\n",
      "Tony Snell 6\n",
      "Donte DiVincenzo 4\n",
      "John Henson 4\n",
      "Thon Maker 8\n",
      "Sterling Brown 3\n",
      "Matthew Dellavedova 0\n",
      "box_gsw_basic\n",
      "gsw\n",
      "Klay Thompson 24\n",
      "Kevin Durant 17\n",
      "Stephen Curry 10\n",
      "Damian Jones 12\n",
      "Jordan Bell 4\n",
      "Kevon Looney 8\n",
      "Alfonzo McKinnie 7\n",
      "Quinn Cook 15\n",
      "Andre Iguodala 6\n",
      "Jonas Jerebko 0\n",
      "Damion Lee 8\n"
     ]
    }
   ],
   "source": [
    "get_boxscore_details(soup)"
   ]
  },
  {
   "cell_type": "code",
   "execution_count": 4,
   "metadata": {},
   "outputs": [],
   "source": [
    "links = get_boxscore_links(2018,11,8)"
   ]
  },
  {
   "cell_type": "code",
   "execution_count": 5,
   "metadata": {},
   "outputs": [],
   "source": [
    "with urllib.request.urlopen(f\"{ref_url}/boxscores/201811080GSW.html\") as response:\n",
    "    html = response.read()\n",
    "    soup = BeautifulSoup(html, 'html.parser')"
   ]
  },
  {
   "cell_type": "code",
   "execution_count": null,
   "metadata": {},
   "outputs": [],
   "source": []
  }
 ],
 "metadata": {
  "kernelspec": {
   "display_name": "Python 3",
   "language": "python",
   "name": "python3"
  },
  "language_info": {
   "codemirror_mode": {
    "name": "ipython",
    "version": 3
   },
   "file_extension": ".py",
   "mimetype": "text/x-python",
   "name": "python",
   "nbconvert_exporter": "python",
   "pygments_lexer": "ipython3",
   "version": "3.6.4"
  }
 },
 "nbformat": 4,
 "nbformat_minor": 2
}
