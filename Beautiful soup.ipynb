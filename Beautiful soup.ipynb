{
 "cells": [
  {
   "cell_type": "code",
   "execution_count": 2,
   "metadata": {},
   "outputs": [],
   "source": [
    "from bs4 import BeautifulSoup\n",
    "import urllib.request"
   ]
  },
  {
   "cell_type": "code",
   "execution_count": 24,
   "metadata": {},
   "outputs": [],
   "source": [
    "class BoxScoreEntry:\n",
    "    def __init__(self, team, name, columns):\n",
    "        \n",
    "        self.team = team\n",
    "        self.name = name\n",
    "        \n",
    "        self.minutes = columns[0].contents[0]\n",
    "        \n",
    "        self.field_goals_made = columns[1].contents[0]\n",
    "        self.field_goals_attemped = columns[2].contents[0]\n",
    "\n",
    "        self.threes_made = columns[4].contents[0]\n",
    "        self.threes_attempted = columns[5].contents[0]\n",
    "\n",
    "        self.free_throws_made = columns[7].contents[0]\n",
    "        self.free_throws_attempted = columns[8].contents[0]\n",
    "\n",
    "        self.offensive_rebounds = columns[10].contents[0]\n",
    "        self.defensive_rebounds = columns[11].contents[0]\n",
    "        \n",
    "        self.assists = columns[13].contents[0]\n",
    "        self.steals = columns[14].contents[0]\n",
    "        self.blocks = columns[15].contents[0]\n",
    "        self.turnovers = columns[16].contents[0]\n",
    "        self.personal_fouls = columns[17].contents[0]\n",
    "        self.points = columns[18].contents[0]"
   ]
  },
  {
   "cell_type": "code",
   "execution_count": 104,
   "metadata": {},
   "outputs": [],
   "source": [
    "ref_url = \"https://www.basketball-reference.com\"\n",
    "\n",
    "import calendar\n",
    "import datetime\n",
    "\n",
    "def get_games(dt):\n",
    "    \n",
    "    month = calendar.month_name[dt.month].lower()\n",
    "    match = f\"month={dt.month}&day={dt.day}&year={dt.year}\"\n",
    "    url = f\"{ref_url}/leagues/NBA_{dt.year+1}_games-{month}.html\"\n",
    "    \n",
    "    games = []\n",
    "    \n",
    "    with urllib.request.urlopen(url) as response:\n",
    "        html = response.read()\n",
    "        soup = BeautifulSoup(html, 'html.parser')\n",
    "        \n",
    "        for table in soup.find_all(\"table\"):\n",
    "            if \"id\" not in table.attrs:\n",
    "                continue\n",
    "            \n",
    "            if table[\"id\"] != \"schedule\":\n",
    "                continue\n",
    "                \n",
    "            skipped = False\n",
    "            for tr in table.find_all(\"tr\"):\n",
    "                if not skipped:\n",
    "                    skipped = True\n",
    "                    continue\n",
    "                \n",
    "                href = tr.find_all(\"th\")[0].find_all(\"a\")[0][\"href\"]\n",
    "                \n",
    "                if match not in href:\n",
    "                    continue\n",
    "                    \n",
    "                tds = tr.find_all(\"td\")\n",
    "                \n",
    "                away = tds[1].find_all(\"a\")[0].get_text()\n",
    "                away_short = tds[1].find_all(\"a\")[0][\"href\"].split('/')[2].lower()\n",
    "                home = tds[3].find_all(\"a\")[0].get_text()\n",
    "                home_short = tds[3].find_all(\"a\")[0][\"href\"].split('/')[2].lower()\n",
    "                \n",
    "                games.append((away_short, home_short))\n",
    "                \n",
    "    return games"
   ]
  },
  {
   "cell_type": "code",
   "execution_count": 105,
   "metadata": {},
   "outputs": [
    {
     "data": {
      "text/plain": [
       "[('mil', 'den'),\n",
       " ('cho', 'det'),\n",
       " ('ind', 'hou'),\n",
       " ('atl', 'lal'),\n",
       " ('orl', 'nyk'),\n",
       " ('bos', 'por')]"
      ]
     },
     "execution_count": 105,
     "metadata": {},
     "output_type": "execute_result"
    }
   ],
   "source": [
    "dt = datetime.datetime.now()\n",
    "\n",
    "get_games(dt)"
   ]
  },
  {
   "cell_type": "code",
   "execution_count": 4,
   "metadata": {},
   "outputs": [],
   "source": [
    "links = get_boxscore_links(2018,11,8)"
   ]
  },
  {
   "cell_type": "code",
   "execution_count": 5,
   "metadata": {},
   "outputs": [],
   "source": [
    "with urllib.request.urlopen(f\"{ref_url}/boxscores/201811080GSW.html\") as response:\n",
    "    html = response.read()\n",
    "    soup = BeautifulSoup(html, 'html.parser')"
   ]
  },
  {
   "cell_type": "code",
   "execution_count": null,
   "metadata": {},
   "outputs": [],
   "source": []
  }
 ],
 "metadata": {
  "kernelspec": {
   "display_name": "Python 3",
   "language": "python",
   "name": "python3"
  },
  "language_info": {
   "codemirror_mode": {
    "name": "ipython",
    "version": 3
   },
   "file_extension": ".py",
   "mimetype": "text/x-python",
   "name": "python",
   "nbconvert_exporter": "python",
   "pygments_lexer": "ipython3",
   "version": "3.6.4"
  }
 },
 "nbformat": 4,
 "nbformat_minor": 2
}
