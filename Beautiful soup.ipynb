{
 "cells": [
  {
   "cell_type": "code",
   "execution_count": 41,
   "metadata": {},
   "outputs": [],
   "source": [
    "from bs4 import BeautifulSoup\n",
    "import urllib.request\n",
    "import json"
   ]
  },
  {
   "cell_type": "code",
   "execution_count": 71,
   "metadata": {},
   "outputs": [],
   "source": [
    "def get_soup(url):\n",
    "    \n",
    "    headers = headers={\n",
    "        'User-Agent': 'Mozilla/5.0 (Windows NT 10.0; Win64; x64) AppleWebKit/537.36 (KHTML, like Gecko) Chrome/70.0.3538.77 Safari/537.36'\n",
    "    }\n",
    "\n",
    "    req = urllib.request.Request(f\"{url}\", headers=headers)\n",
    "    with urllib.request.urlopen(req) as response:\n",
    "        html = response.read()\n",
    "        return BeautifulSoup(html, 'html.parser')\n",
    "    \n",
    "def get_gamecast_urls(date):\n",
    "    scoreboard_url = \"http://www.espn.com/nba/scoreboard/_/date/20181214\"\n",
    "    \n",
    "    soup = get_soup(scoreboard_url)\n",
    "    \n",
    "    js = \"\"\n",
    "    for s in soup.find_all(\"script\"):\n",
    "        txt = s.get_text()\n",
    "\n",
    "        if \"window.espn.scoreboardData\" not in txt:\n",
    "            continue\n",
    "\n",
    "        end = txt.index(\";window.espn.scoreboardSettings\")\n",
    "        start = txt.index(\"= {\")\n",
    "\n",
    "        js = txt[start+2:end]\n",
    "\n",
    "        break\n",
    "        \n",
    "    loaded = json.loads(js)\n",
    "    \n",
    "    links = []\n",
    "    \n",
    "    return links\n",
    "    for e in loaded[\"events\"]:\n",
    "        for l in e[\"links\"]:\n",
    "            if l[\"shortText\"] == \"Gamecast\":\n",
    "                links.append(l[\"href\"])\n",
    "    \n",
    "    return links\n",
    "\n",
    "def get_line_info(gamecast_url):\n",
    "    soup = get_soup(gamecast_url)\n",
    "    \n",
    "    mydivs = soup.findAll(\"div\", {\"class\": \"odds-details\"})\n",
    "    \n",
    "    arr = mydivs[0].findAll(\"li\")[0].get_text().replace(\"Line: \", \"\").split(' ')\n",
    "\n",
    "    team = arr[0].lower()\n",
    "    spread = arr[1]\n",
    "    \n",
    "    return (team, spread)"
   ]
  },
  {
   "cell_type": "code",
   "execution_count": 72,
   "metadata": {},
   "outputs": [],
   "source": [
    "urls = get_gamecast_urls(\"bla\")"
   ]
  },
  {
   "cell_type": "code",
   "execution_count": 64,
   "metadata": {},
   "outputs": [
    {
     "name": "stdout",
     "output_type": "stream",
     "text": [
      "('bos', '-12.0')\n",
      "('cha', '-10.0')\n",
      "('bkn', '-3.0')\n",
      "('mil', '-9.5')\n",
      "('phi', '-3.0')\n",
      "('mem', '-4.0')\n",
      "('okc', '-2.0')\n",
      "('tor', '-1.5')\n",
      "('gs', '-7.0')\n"
     ]
    }
   ],
   "source": [
    "for u in urls:\n",
    "    print(get_line_info(u))"
   ]
  },
  {
   "cell_type": "code",
   "execution_count": 81,
   "metadata": {},
   "outputs": [
    {
     "name": "stdout",
     "output_type": "stream",
     "text": [
      "['date', 'uid', 'name', 'competitions', 'season', 'links', 'id', 'shortName', 'status']\n",
      "ATL @ BOS\n"
     ]
    }
   ],
   "source": [
    "for e in loaded[\"events\"]:\n",
    "    print(list(e.keys()))\n",
    "    print(e[\"shortName\"])\n",
    "    break"
   ]
  },
  {
   "cell_type": "code",
   "execution_count": null,
   "metadata": {},
   "outputs": [],
   "source": []
  }
 ],
 "metadata": {
  "kernelspec": {
   "display_name": "Python 3",
   "language": "python",
   "name": "python3"
  },
  "language_info": {
   "codemirror_mode": {
    "name": "ipython",
    "version": 3
   },
   "file_extension": ".py",
   "mimetype": "text/x-python",
   "name": "python",
   "nbconvert_exporter": "python",
   "pygments_lexer": "ipython3",
   "version": "3.6.4"
  }
 },
 "nbformat": 4,
 "nbformat_minor": 2
}
