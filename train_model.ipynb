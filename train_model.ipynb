{
 "cells": [
  {
   "cell_type": "code",
   "execution_count": 1,
   "metadata": {},
   "outputs": [],
   "source": [
    "%matplotlib inline\n",
    "import matplotlib.pyplot as plt\n",
    "import seaborn as sns\n",
    "import pandas as pd\n",
    "\n",
    "sns.set()"
   ]
  },
  {
   "cell_type": "code",
   "execution_count": 2,
   "metadata": {},
   "outputs": [],
   "source": [
    "data = pd.read_csv(\"processed.txt\")"
   ]
  },
  {
   "cell_type": "code",
   "execution_count": 3,
   "metadata": {},
   "outputs": [
    {
     "data": {
      "text/plain": [
       "(864, 3)"
      ]
     },
     "execution_count": 3,
     "metadata": {},
     "output_type": "execute_result"
    }
   ],
   "source": [
    "data.shape"
   ]
  },
  {
   "cell_type": "code",
   "execution_count": 4,
   "metadata": {},
   "outputs": [
    {
     "data": {
      "text/plain": [
       "count    864.000000\n",
       "mean       0.565972\n",
       "std        0.495916\n",
       "min        0.000000\n",
       "25%        0.000000\n",
       "50%        1.000000\n",
       "75%        1.000000\n",
       "max        1.000000\n",
       "Name: home_win, dtype: float64"
      ]
     },
     "execution_count": 4,
     "metadata": {},
     "output_type": "execute_result"
    }
   ],
   "source": [
    "data[\"home_win\"].describe()"
   ]
  },
  {
   "cell_type": "code",
   "execution_count": 5,
   "metadata": {},
   "outputs": [
    {
     "data": {
      "text/plain": [
       "count    363.000000\n",
       "mean       0.969697\n",
       "std        0.171656\n",
       "min        0.000000\n",
       "25%        1.000000\n",
       "50%        1.000000\n",
       "75%        1.000000\n",
       "max        1.000000\n",
       "Name: home_win, dtype: float64"
      ]
     },
     "execution_count": 5,
     "metadata": {},
     "output_type": "execute_result"
    }
   ],
   "source": [
    "data[data[\"home_pct\"] > data[\"away_pct\"]][\"home_win\"].describe()"
   ]
  },
  {
   "cell_type": "code",
   "execution_count": 6,
   "metadata": {},
   "outputs": [
    {
     "data": {
      "text/plain": [
       "0.6149425287356322"
      ]
     },
     "execution_count": 6,
     "metadata": {},
     "output_type": "execute_result"
    }
   ],
   "source": [
    "data[data[\"away_pct\"] == data[\"home_pct\"]][\"home_win\"].mean()"
   ]
  },
  {
   "cell_type": "code",
   "execution_count": 7,
   "metadata": {},
   "outputs": [
    {
     "data": {
      "text/plain": [
       "<seaborn.axisgrid.PairGrid at 0x20184d13630>"
      ]
     },
     "execution_count": 7,
     "metadata": {},
     "output_type": "execute_result"
    },
    {
     "data": {
      "image/png": "[encoded data removed]",
      "text/plain": [
       "<matplotlib.figure.Figure at 0x20184d139b0>"
      ]
     },
     "metadata": {},
     "output_type": "display_data"
    }
   ],
   "source": [
    "sns.pairplot(data, hue='home_win')"
   ]
  },
  {
   "cell_type": "code",
   "execution_count": 8,
   "metadata": {},
   "outputs": [],
   "source": [
    "y = data.home_win"
   ]
  },
  {
   "cell_type": "code",
   "execution_count": 9,
   "metadata": {},
   "outputs": [],
   "source": [
    "X = data.drop(\"home_win\", axis=1)"
   ]
  },
  {
   "cell_type": "code",
   "execution_count": 10,
   "metadata": {},
   "outputs": [],
   "source": [
    "from sklearn.naive_bayes import GaussianNB\n",
    "from sklearn.tree import DecisionTreeClassifier\n",
    "from sklearn.ensemble import AdaBoostClassifier\n",
    "from sklearn.svm import SVC\n",
    "\n",
    "def get_model_and_grid():\n",
    "    \n",
    "    #model = GaussianNB()\n",
    "    #model = DecisionTreeClassifier()\n",
    "\n",
    "    model = AdaBoostClassifier()\n",
    "    param_grid = {\n",
    "        \"learning_rate\": [0.01, 0.1, 0.5, 1, 10],\n",
    "        \"n_estimators\": [1, 10, 50, 100]\n",
    "    }\n",
    "\n",
    "    #print(\"getting model\")\n",
    "    #\n",
    "    #model = SVC()\n",
    "    #\n",
    "    #param_grid = {\n",
    "    #    \"C\": [0.01, 0.1, 1, 10, 100],\n",
    "    #    \"kernel\": ['linear', 'rbf']\n",
    "    # }\n",
    "\n",
    "    return model, param_grid"
   ]
  },
  {
   "cell_type": "code",
   "execution_count": 11,
   "metadata": {},
   "outputs": [],
   "source": [
    "from sklearn.model_selection import GridSearchCV\n",
    "\n",
    "model, param_grid = get_model_and_grid()\n",
    "\n",
    "grid = GridSearchCV(model, param_grid, cv=5)"
   ]
  },
  {
   "cell_type": "code",
   "execution_count": 12,
   "metadata": {},
   "outputs": [
    {
     "name": "stdout",
     "output_type": "stream",
     "text": [
      "{'learning_rate': 0.01, 'n_estimators': 100}\n",
      "0.875\n"
     ]
    },
    {
     "name": "stderr",
     "output_type": "stream",
     "text": [
      "C:\\Users\\lsimu\\Anaconda3\\lib\\site-packages\\sklearn\\utils\\deprecation.py:122: FutureWarning: You are accessing a training score ('mean_train_score'), which will not be available by default any more in 0.21. If you need training scores, please set return_train_score=True\n",
      "  warnings.warn(*warn_args, **warn_kwargs)\n",
      "C:\\Users\\lsimu\\Anaconda3\\lib\\site-packages\\sklearn\\utils\\deprecation.py:122: FutureWarning: You are accessing a training score ('split0_train_score'), which will not be available by default any more in 0.21. If you need training scores, please set return_train_score=True\n",
      "  warnings.warn(*warn_args, **warn_kwargs)\n",
      "C:\\Users\\lsimu\\Anaconda3\\lib\\site-packages\\sklearn\\utils\\deprecation.py:122: FutureWarning: You are accessing a training score ('split1_train_score'), which will not be available by default any more in 0.21. If you need training scores, please set return_train_score=True\n",
      "  warnings.warn(*warn_args, **warn_kwargs)\n",
      "C:\\Users\\lsimu\\Anaconda3\\lib\\site-packages\\sklearn\\utils\\deprecation.py:122: FutureWarning: You are accessing a training score ('split2_train_score'), which will not be available by default any more in 0.21. If you need training scores, please set return_train_score=True\n",
      "  warnings.warn(*warn_args, **warn_kwargs)\n",
      "C:\\Users\\lsimu\\Anaconda3\\lib\\site-packages\\sklearn\\utils\\deprecation.py:122: FutureWarning: You are accessing a training score ('split3_train_score'), which will not be available by default any more in 0.21. If you need training scores, please set return_train_score=True\n",
      "  warnings.warn(*warn_args, **warn_kwargs)\n",
      "C:\\Users\\lsimu\\Anaconda3\\lib\\site-packages\\sklearn\\utils\\deprecation.py:122: FutureWarning: You are accessing a training score ('split4_train_score'), which will not be available by default any more in 0.21. If you need training scores, please set return_train_score=True\n",
      "  warnings.warn(*warn_args, **warn_kwargs)\n",
      "C:\\Users\\lsimu\\Anaconda3\\lib\\site-packages\\sklearn\\utils\\deprecation.py:122: FutureWarning: You are accessing a training score ('std_train_score'), which will not be available by default any more in 0.21. If you need training scores, please set return_train_score=True\n",
      "  warnings.warn(*warn_args, **warn_kwargs)\n"
     ]
    },
    {
     "data": {
      "text/plain": [
       "{'mean_fit_time': array([ 0.00299926,  0.01459398,  0.06899691,  0.12399592,  0.00199971,\n",
       "         0.01320539,  0.06120577,  0.11720695,  0.00258827,  0.01399508,\n",
       "         0.06720943,  0.11478925,  0.00159731,  0.01299481,  0.06140251,\n",
       "         0.11280427,  0.00179973,  0.01339674,  0.05920029,  0.10899982]),\n",
       " 'mean_score_time': array([ 0.00040059,  0.00139527,  0.0049953 ,  0.00899019,  0.        ,\n",
       "         0.00138965,  0.00519261,  0.00760636,  0.00020418,  0.00120192,\n",
       "         0.00539627,  0.00780902,  0.00080681,  0.00118604,  0.00460706,\n",
       "         0.00778885,  0.00039568,  0.00100203,  0.00399909,  0.00779939]),\n",
       " 'mean_test_score': array([ 0.78356481,  0.78356481,  0.84143519,  0.875     ,  0.78356481,\n",
       "         0.875     ,  0.875     ,  0.875     ,  0.78356481,  0.875     ,\n",
       "         0.875     ,  0.875     ,  0.78356481,  0.875     ,  0.875     ,\n",
       "         0.875     ,  0.78356481,  0.38773148,  0.38773148,  0.38773148]),\n",
       " 'mean_train_score': array([ 0.78356616,  0.78356616,  0.84606669,  0.87500188,  0.78356616,\n",
       "         0.87500188,  0.87500188,  0.87500188,  0.78356616,  0.87500188,\n",
       "         0.87500188,  0.87500188,  0.78356616,  0.87500188,  0.87500188,\n",
       "         0.87500188,  0.78356616,  0.39119145,  0.39119145,  0.39119145]),\n",
       " 'param_learning_rate': masked_array(data = [0.01 0.01 0.01 0.01 0.1 0.1 0.1 0.1 0.5 0.5 0.5 0.5 1 1 1 1 10 10 10 10],\n",
       "              mask = [False False False False False False False False False False False False\n",
       "  False False False False False False False False],\n",
       "        fill_value = ?),\n",
       " 'param_n_estimators': masked_array(data = [1 10 50 100 1 10 50 100 1 10 50 100 1 10 50 100 1 10 50 100],\n",
       "              mask = [False False False False False False False False False False False False\n",
       "  False False False False False False False False],\n",
       "        fill_value = ?),\n",
       " 'params': [{'learning_rate': 0.01, 'n_estimators': 1},\n",
       "  {'learning_rate': 0.01, 'n_estimators': 10},\n",
       "  {'learning_rate': 0.01, 'n_estimators': 50},\n",
       "  {'learning_rate': 0.01, 'n_estimators': 100},\n",
       "  {'learning_rate': 0.1, 'n_estimators': 1},\n",
       "  {'learning_rate': 0.1, 'n_estimators': 10},\n",
       "  {'learning_rate': 0.1, 'n_estimators': 50},\n",
       "  {'learning_rate': 0.1, 'n_estimators': 100},\n",
       "  {'learning_rate': 0.5, 'n_estimators': 1},\n",
       "  {'learning_rate': 0.5, 'n_estimators': 10},\n",
       "  {'learning_rate': 0.5, 'n_estimators': 50},\n",
       "  {'learning_rate': 0.5, 'n_estimators': 100},\n",
       "  {'learning_rate': 1, 'n_estimators': 1},\n",
       "  {'learning_rate': 1, 'n_estimators': 10},\n",
       "  {'learning_rate': 1, 'n_estimators': 50},\n",
       "  {'learning_rate': 1, 'n_estimators': 100},\n",
       "  {'learning_rate': 10, 'n_estimators': 1},\n",
       "  {'learning_rate': 10, 'n_estimators': 10},\n",
       "  {'learning_rate': 10, 'n_estimators': 50},\n",
       "  {'learning_rate': 10, 'n_estimators': 100}],\n",
       " 'rank_test_score': array([12, 12, 11,  1, 12,  1,  1,  1, 12,  1,  1,  1, 12,  1,  1,  1, 12,\n",
       "        18, 18, 18]),\n",
       " 'split0_test_score': array([ 0.79768786,  0.79768786,  0.86705202,  0.86705202,  0.79768786,\n",
       "         0.86705202,  0.86705202,  0.86705202,  0.79768786,  0.86705202,\n",
       "         0.86705202,  0.86705202,  0.79768786,  0.86705202,  0.86705202,\n",
       "         0.86705202,  0.79768786,  0.20231214,  0.20231214,  0.20231214]),\n",
       " 'split0_train_score': array([ 0.78002894,  0.78002894,  0.87698987,  0.87698987,  0.78002894,\n",
       "         0.87698987,  0.87698987,  0.87698987,  0.78002894,  0.87698987,\n",
       "         0.87698987,  0.87698987,  0.78002894,  0.87698987,  0.87698987,\n",
       "         0.87698987,  0.78002894,  0.21997106,  0.21997106,  0.21997106]),\n",
       " 'split1_test_score': array([ 0.78034682,  0.78034682,  0.85549133,  0.87283237,  0.78034682,\n",
       "         0.87283237,  0.87283237,  0.87283237,  0.78034682,  0.87283237,\n",
       "         0.87283237,  0.87283237,  0.78034682,  0.87283237,  0.87283237,\n",
       "         0.87283237,  0.78034682,  0.43352601,  0.43352601,  0.43352601]),\n",
       " 'split1_train_score': array([ 0.78437048,  0.78437048,  0.84370478,  0.87554269,  0.78437048,\n",
       "         0.87554269,  0.87554269,  0.87554269,  0.78437048,  0.87554269,\n",
       "         0.87554269,  0.87554269,  0.78437048,  0.87554269,  0.87554269,\n",
       "         0.87554269,  0.78437048,  0.4341534 ,  0.4341534 ,  0.4341534 ]),\n",
       " 'split2_test_score': array([ 0.7283237 ,  0.7283237 ,  0.7283237 ,  0.84971098,  0.7283237 ,\n",
       "         0.84971098,  0.84971098,  0.84971098,  0.7283237 ,  0.84971098,\n",
       "         0.84971098,  0.84971098,  0.7283237 ,  0.84971098,  0.84971098,\n",
       "         0.84971098,  0.7283237 ,  0.43352601,  0.43352601,  0.43352601]),\n",
       " 'split2_train_score': array([ 0.79739508,  0.79739508,  0.79739508,  0.8813314 ,  0.79739508,\n",
       "         0.8813314 ,  0.8813314 ,  0.8813314 ,  0.79739508,  0.8813314 ,\n",
       "         0.8813314 ,  0.8813314 ,  0.79739508,  0.8813314 ,  0.8813314 ,\n",
       "         0.8813314 ,  0.79739508,  0.4341534 ,  0.4341534 ,  0.4341534 ]),\n",
       " 'split3_test_score': array([ 0.80924855,  0.80924855,  0.88439306,  0.88439306,  0.80924855,\n",
       "         0.88439306,  0.88439306,  0.88439306,  0.80924855,  0.88439306,\n",
       "         0.88439306,  0.88439306,  0.80924855,  0.88439306,  0.88439306,\n",
       "         0.88439306,  0.80924855,  0.43352601,  0.43352601,  0.43352601]),\n",
       " 'split3_train_score': array([ 0.77713459,  0.77713459,  0.87264834,  0.87264834,  0.77713459,\n",
       "         0.87264834,  0.87264834,  0.87264834,  0.77713459,  0.87264834,\n",
       "         0.87264834,  0.87264834,  0.77713459,  0.87264834,  0.87264834,\n",
       "         0.87264834,  0.77713459,  0.4341534 ,  0.4341534 ,  0.4341534 ]),\n",
       " 'split4_test_score': array([ 0.80232558,  0.80232558,  0.87209302,  0.90116279,  0.80232558,\n",
       "         0.90116279,  0.90116279,  0.90116279,  0.80232558,  0.90116279,\n",
       "         0.90116279,  0.90116279,  0.80232558,  0.90116279,  0.90116279,\n",
       "         0.90116279,  0.80232558,  0.43604651,  0.43604651,  0.43604651]),\n",
       " 'split4_train_score': array([ 0.77890173,  0.77890173,  0.83959538,  0.86849711,  0.77890173,\n",
       "         0.86849711,  0.86849711,  0.86849711,  0.77890173,  0.86849711,\n",
       "         0.86849711,  0.86849711,  0.77890173,  0.86849711,  0.86849711,\n",
       "         0.86849711,  0.77890173,  0.43352601,  0.43352601,  0.43352601]),\n",
       " 'std_fit_time': array([  2.10416519e-05,   2.48700580e-03,   6.36195206e-03,\n",
       "          1.54899245e-02,   6.05714588e-06,   3.99674473e-04,\n",
       "          4.69249531e-03,   5.60222079e-03,   7.92549676e-04,\n",
       "          2.27283798e-03,   7.49646871e-03,   1.72248604e-03,\n",
       "          5.02101345e-04,   8.96611192e-04,   4.31924965e-03,\n",
       "          9.76569084e-04,   3.98594470e-04,   7.97071172e-04,\n",
       "          3.54321132e-03,   2.36577685e-03]),\n",
       " 'std_score_time': array([  4.90635555e-04,   4.86427482e-04,   6.42651962e-06,\n",
       "          1.55342744e-03,   0.00000000e+00,   4.90229151e-04,\n",
       "          7.34986510e-04,   8.09555467e-04,   4.08363342e-04,\n",
       "          3.97813367e-04,   8.01004743e-04,   4.01844358e-04,\n",
       "          4.03585489e-04,   3.88519431e-04,   7.96114125e-04,\n",
       "          7.41695597e-04,   4.84649781e-04,   2.69486831e-06,\n",
       "          6.32786671e-04,   7.48328234e-04]),\n",
       " 'std_test_score': array([ 0.02924355,  0.02924355,  0.05735306,  0.0171923 ,  0.02924355,\n",
       "         0.0171923 ,  0.0171923 ,  0.0171923 ,  0.02924355,  0.0171923 ,\n",
       "         0.0171923 ,  0.0171923 ,  0.02924355,  0.0171923 ,  0.0171923 ,\n",
       "         0.0171923 ,  0.02924355,  0.09278185,  0.09278185,  0.09278185]),\n",
       " 'std_train_score': array([ 0.00731464,  0.00731464,  0.02856295,  0.00429322,  0.00731464,\n",
       "         0.00429322,  0.00429322,  0.00429322,  0.00731464,  0.00429322,\n",
       "         0.00429322,  0.00429322,  0.00731464,  0.00429322,  0.00429322,\n",
       "         0.00429322,  0.00731464,  0.08561054,  0.08561054,  0.08561054])}"
      ]
     },
     "execution_count": 12,
     "metadata": {},
     "output_type": "execute_result"
    }
   ],
   "source": [
    "grid.fit(X, y)\n",
    "\n",
    "print(grid.best_params_)\n",
    "print(grid.best_score_)\n",
    "\n",
    "grid.cv_results_"
   ]
  },
  {
   "cell_type": "code",
   "execution_count": 13,
   "metadata": {},
   "outputs": [],
   "source": [
    "from sklearn.metrics import confusion_matrix\n",
    "\n",
    "model = grid.best_estimator_\n",
    "\n",
    "y_model = model.predict(X)\n",
    "\n",
    "mat = confusion_matrix(y_true=y, y_pred=y_model)"
   ]
  },
  {
   "cell_type": "code",
   "execution_count": 14,
   "metadata": {},
   "outputs": [
    {
     "data": {
      "text/plain": [
       "<matplotlib.axes._subplots.AxesSubplot at 0x201891b7080>"
      ]
     },
     "execution_count": 14,
     "metadata": {},
     "output_type": "execute_result"
    },
    {
     "data": {
      "image/png": "[encoded data removed]",
      "text/plain": [
       "<matplotlib.figure.Figure at 0x201891704e0>"
      ]
     },
     "metadata": {},
     "output_type": "display_data"
    }
   ],
   "source": [
    "sns.heatmap(mat.T, annot=True, fmt='d')"
   ]
  },
  {
   "cell_type": "code",
   "execution_count": 15,
   "metadata": {},
   "outputs": [
    {
     "data": {
      "text/plain": [
       "1    489\n",
       "0    375\n",
       "Name: home_win, dtype: int64"
      ]
     },
     "execution_count": 15,
     "metadata": {},
     "output_type": "execute_result"
    }
   ],
   "source": [
    "y.value_counts()"
   ]
  },
  {
   "cell_type": "code",
   "execution_count": 16,
   "metadata": {},
   "outputs": [
    {
     "data": {
      "text/plain": [
       "['best_estimator.pkl']"
      ]
     },
     "execution_count": 16,
     "metadata": {},
     "output_type": "execute_result"
    }
   ],
   "source": [
    "from sklearn.externals import joblib\n",
    "\n",
    "joblib.dump(grid.best_estimator_, \"best_estimator.pkl\")"
   ]
  },
  {
   "cell_type": "code",
   "execution_count": null,
   "metadata": {},
   "outputs": [],
   "source": []
  }
 ],
 "metadata": {
  "kernelspec": {
   "display_name": "Python 3",
   "language": "python",
   "name": "python3"
  },
  "language_info": {
   "codemirror_mode": {
    "name": "ipython",
    "version": 3
   },
   "file_extension": ".py",
   "mimetype": "text/x-python",
   "name": "python",
   "nbconvert_exporter": "python",
   "pygments_lexer": "ipython3",
   "version": "3.6.4"
  }
 },
 "nbformat": 4,
 "nbformat_minor": 2
}
