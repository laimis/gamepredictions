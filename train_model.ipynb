{
 "cells": [
  {
   "cell_type": "code",
   "execution_count": 1,
   "metadata": {},
   "outputs": [],
   "source": [
    "%matplotlib inline\n",
    "import matplotlib.pyplot as plt\n",
    "import seaborn as sns\n",
    "import pandas as pd\n",
    "import numpy as np\n",
    "\n",
    "sns.set()\n",
    "\n",
    "import common\n",
    "import evaluate"
   ]
  },
  {
   "cell_type": "code",
   "execution_count": 2,
   "metadata": {},
   "outputs": [],
   "source": [
    "test_file = f\"output\\\\nba\\\\test\\\\train.csv\"\n",
    "model_file = f\"models\\\\nba\\\\model.pkl\"\n",
    "\n",
    "model = common.load_model(model_file)\n",
    "data, y = common.read_data_from_file(test_file, \"home_win\", [\"counter\", \"home_win\"])"
   ]
  },
  {
   "cell_type": "code",
   "execution_count": 3,
   "metadata": {},
   "outputs": [
    {
     "data": {
      "text/plain": [
       "[<common.ConfidenceStat at 0x2691401cef0>,\n",
       " <common.ConfidenceStat at 0x2691401cdd8>,\n",
       " <common.ConfidenceStat at 0x2691401ce10>,\n",
       " <common.ConfidenceStat at 0x2691401cf28>,\n",
       " <common.ConfidenceStat at 0x2691401cf60>,\n",
       " <common.ConfidenceStat at 0x2691401cf98>]"
      ]
     },
     "execution_count": 3,
     "metadata": {},
     "output_type": "execute_result"
    }
   ],
   "source": [
    "X = data.drop([\"year\", \"date\", \"away\", \"home\"], axis=1, inplace=False)\n",
    "y_predicted = model.predict(X)\n",
    "\n"
   ]
  },
  {
   "cell_type": "code",
   "execution_count": 7,
   "metadata": {},
   "outputs": [
    {
     "data": {
      "image/png": "[encoded data removed]",
      "text/plain": [
       "<matplotlib.figure.Figure at 0x2691421eb38>"
      ]
     },
     "metadata": {},
     "output_type": "display_data"
    }
   ],
   "source": [
    "stats = common.confidence_stats(model, X, y)\n",
    "\n",
    "ranges = []\n",
    "pcts = []\n",
    "cords = []\n",
    "\n",
    "counter = 1\n",
    "for s in stats:\n",
    "    ranges.append(s.conf_range[0])\n",
    "    pcts.append(s.pct)\n",
    "    cords.append(counter)\n",
    "    counter += 3\n",
    "\n",
    "plt.figure(figsize=(18, 8), dpi= 80, facecolor='w', edgecolor='k')\n",
    "plt.bar(cords, pcts, width=1, tick_label=ranges)\n",
    "#plt.xticks(rotation=70)\n",
    "plt.show()"
   ]
  },
  {
   "cell_type": "code",
   "execution_count": null,
   "metadata": {},
   "outputs": [],
   "source": [
    "def team_summary(data):\n",
    "    \n",
    "    def update_records(team_stat):\n",
    "        pct = team_stat[\"correct\"] / team_stat[\"total\"]\n",
    "        real_pct = team_stat[\"real\"] / team_stat[\"total\"]\n",
    "\n",
    "        team_stat[\"record\"] = real_pct\n",
    "        team_stat[\"betting\"] = pct\n",
    "\n",
    "    total = 0\n",
    "    correct = 0\n",
    "\n",
    "    teams = {}\n",
    "\n",
    "    for index, row in data.iterrows():\n",
    "\n",
    "        features = [X.iloc[index]]\n",
    "\n",
    "        predicted = model.predict(features)[0]\n",
    "        real = y.iloc[index]\n",
    "\n",
    "        confidences = model.predict_proba(features)[0]\n",
    "        max_confidence = max(confidences)\n",
    "\n",
    "        total += 1\n",
    "\n",
    "        if real == predicted: correct += 1\n",
    "\n",
    "        home = row[\"home\"]\n",
    "        away = row[\"away\"]\n",
    "\n",
    "        if home not in teams: teams[home]={\"correct\":0, \"total\":0, \"real\":0}\n",
    "        if away not in teams: teams[away]={\"correct\":0, \"total\":0, \"real\":0}\n",
    "\n",
    "        home_team = teams[home]\n",
    "        away_team = teams[away]\n",
    "\n",
    "        if real == 1 and predicted == 1:\n",
    "            home_team[\"correct\"] += 1\n",
    "            away_team[\"correct\"] += 1\n",
    "        if real == 0 and predicted == 0:\n",
    "            home_team[\"correct\"] += 1\n",
    "            away_team[\"correct\"] += 1\n",
    "        if real == 1:\n",
    "            home_team[\"real\"] += 1\n",
    "        if real == 0:\n",
    "            away_team[\"real\"] += 1\n",
    "\n",
    "        home_team[\"total\"] += 1\n",
    "        away_team[\"total\"] += 1\n",
    "\n",
    "        update_records(home_team)\n",
    "        update_records(away_team)\n",
    "        \n",
    "        #print(f\"{correct}/{total} = {correct/total:.4f}\")\n",
    "        \n",
    "    return teams"
   ]
  },
  {
   "cell_type": "code",
   "execution_count": null,
   "metadata": {},
   "outputs": [],
   "source": [
    "import operator\n",
    "import matplotlib.pyplot as plt\n",
    "\n",
    "teams = team_summary(data)\n",
    "\n",
    "#print(\"{0:<30} {1} {2}\".format(\"team\", \"win %\", \"bet %\"))\n",
    "\n",
    "names = []\n",
    "betting = []\n",
    "record = []\n",
    "cords = []\n",
    "cords_betting = []\n",
    "counter = 0\n",
    "\n",
    "for k in sorted(teams.items(), key=lambda d: d[1][\"correct\"]/d[1][\"total\"]):\n",
    "    team_name = k[0]\n",
    "    team_stat = k[1]\n",
    "    \n",
    "    pct = team_stat[\"correct\"] / team_stat[\"total\"]\n",
    "    real_pct = team_stat[\"real\"] / team_stat[\"total\"]\n",
    "    \n",
    "    names.append(team_name)\n",
    "    betting.append(pct)\n",
    "    record.append(real_pct)\n",
    "    \n",
    "    cords.append(counter * 10)\n",
    "    cords_betting.append(counter * 10 + 2)\n",
    "    counter += 1\n",
    "    \n",
    "    #print(f\"{team_name:<30} {real_pct:.2f}  {pct:.2f}\")"
   ]
  },
  {
   "cell_type": "code",
   "execution_count": null,
   "metadata": {},
   "outputs": [],
   "source": [
    "plt.figure(figsize=(18, 10), dpi= 80, facecolor='w', edgecolor='k')\n",
    "plt.bar(cords, record, width=2, tick_label=names)\n",
    "plt.bar(cords_betting, betting, width=2, tick_label=names)\n",
    "plt.xticks(rotation=70)\n",
    "plt.show()"
   ]
  }
 ],
 "metadata": {
  "kernelspec": {
   "display_name": "Python 3",
   "language": "python",
   "name": "python3"
  },
  "language_info": {
   "codemirror_mode": {
    "name": "ipython",
    "version": 3
   },
   "file_extension": ".py",
   "mimetype": "text/x-python",
   "name": "python",
   "nbconvert_exporter": "python",
   "pygments_lexer": "ipython3",
   "version": "3.6.4"
  }
 },
 "nbformat": 4,
 "nbformat_minor": 2
}
