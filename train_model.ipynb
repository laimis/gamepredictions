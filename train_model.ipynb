{
 "cells": [
  {
   "cell_type": "code",
   "execution_count": 1,
   "metadata": {},
   "outputs": [],
   "source": [
    "%matplotlib inline\n",
    "import matplotlib.pyplot as plt\n",
    "import seaborn as sns\n",
    "import pandas as pd\n",
    "import numpy as np\n",
    "\n",
    "from sklearn.externals import joblib\n",
    "\n",
    "sns.set()"
   ]
  },
  {
   "cell_type": "code",
   "execution_count": 30,
   "metadata": {},
   "outputs": [],
   "source": [
    "data = pd.read_csv(\"output\\\\4trainingdata.csv\")"
   ]
  },
  {
   "cell_type": "code",
   "execution_count": 31,
   "metadata": {},
   "outputs": [
    {
     "data": {
      "text/plain": [
       "(786, 7)"
      ]
     },
     "execution_count": 31,
     "metadata": {},
     "output_type": "execute_result"
    }
   ],
   "source": [
    "data.shape"
   ]
  },
  {
   "cell_type": "code",
   "execution_count": 32,
   "metadata": {},
   "outputs": [
    {
     "data": {
      "text/plain": [
       "count    786.000000\n",
       "mean       0.567430\n",
       "std        0.495748\n",
       "min        0.000000\n",
       "25%        0.000000\n",
       "50%        1.000000\n",
       "75%        1.000000\n",
       "max        1.000000\n",
       "Name: home_win, dtype: float64"
      ]
     },
     "execution_count": 32,
     "metadata": {},
     "output_type": "execute_result"
    }
   ],
   "source": [
    "data[\"home_win\"].describe()"
   ]
  },
  {
   "cell_type": "code",
   "execution_count": 33,
   "metadata": {},
   "outputs": [
    {
     "data": {
      "text/plain": [
       "count    189.000000\n",
       "mean       0.555556\n",
       "std        0.498224\n",
       "min        0.000000\n",
       "25%        0.000000\n",
       "50%        1.000000\n",
       "75%        1.000000\n",
       "max        1.000000\n",
       "Name: home_win, dtype: float64"
      ]
     },
     "execution_count": 33,
     "metadata": {},
     "output_type": "execute_result"
    }
   ],
   "source": [
    "data[data[\"home_pct\"] == data[\"away_pct\"]][\"home_win\"].describe()"
   ]
  },
  {
   "cell_type": "code",
   "execution_count": 34,
   "metadata": {},
   "outputs": [
    {
     "data": {
      "text/plain": [
       "0.7391304347826086"
      ]
     },
     "execution_count": 34,
     "metadata": {},
     "output_type": "execute_result"
    }
   ],
   "source": [
    "data[data[\"away_pct\"] == 0][\"home_win\"].mean()"
   ]
  },
  {
   "cell_type": "code",
   "execution_count": 8,
   "metadata": {},
   "outputs": [
    {
     "data": {
      "text/plain": [
       "count    282.000000\n",
       "mean       0.744681\n",
       "std        0.436816\n",
       "min        0.000000\n",
       "25%        0.000000\n",
       "50%        1.000000\n",
       "75%        1.000000\n",
       "max        1.000000\n",
       "Name: home_win, dtype: float64"
      ]
     },
     "execution_count": 8,
     "metadata": {},
     "output_type": "execute_result"
    }
   ],
   "source": [
    "data[data[\"home_pct\"] > data[\"away_pct\"]][\"home_win\"].describe()"
   ]
  },
  {
   "cell_type": "code",
   "execution_count": 11,
   "metadata": {},
   "outputs": [
    {
     "data": {
      "text/plain": [
       "count    319.000000\n",
       "mean       0.423197\n",
       "std        0.494842\n",
       "min        0.000000\n",
       "25%        0.000000\n",
       "50%        0.000000\n",
       "75%        1.000000\n",
       "max        1.000000\n",
       "Name: home_win, dtype: float64"
      ]
     },
     "execution_count": 11,
     "metadata": {},
     "output_type": "execute_result"
    }
   ],
   "source": [
    "data[data[\"away_pct\"] > data[\"home_pct\"]][\"home_win\"].describe()"
   ]
  },
  {
   "cell_type": "code",
   "execution_count": 12,
   "metadata": {},
   "outputs": [],
   "source": [
    "y = data.home_win"
   ]
  },
  {
   "cell_type": "code",
   "execution_count": 16,
   "metadata": {},
   "outputs": [],
   "source": [
    "X = data.drop([\"home_win\", \"home\", \"away\"], axis=1, inplace=False)"
   ]
  },
  {
   "cell_type": "code",
   "execution_count": 17,
   "metadata": {},
   "outputs": [],
   "source": [
    "from sklearn.naive_bayes import GaussianNB\n",
    "from sklearn.tree import DecisionTreeClassifier\n",
    "from sklearn.ensemble import AdaBoostClassifier\n",
    "from sklearn.svm import SVC\n",
    "from sklearn.neural_network import MLPClassifier\n",
    "\n",
    "def get_model_and_grid():\n",
    "\n",
    "    #model = MLPClassifier()\n",
    "    #param_grid = {    \n",
    "    #}\n",
    "    \n",
    "    model = GaussianNB()\n",
    "    param_grid = {\n",
    "    }\n",
    "    \n",
    "    #model = DecisionTreeClassifier()\n",
    "\n",
    "    #model = AdaBoostClassifier()\n",
    "    #param_grid = {\n",
    "    #    \"learning_rate\": [0.01, 0.1, 0.5, 1, 10],\n",
    "    #    \"n_estimators\": [1, 10, 50, 100]\n",
    "    #}\n",
    "\n",
    "    #print(\"getting model\")\n",
    "    #\n",
    "    #model = SVC()\n",
    "    #\n",
    "    #param_grid = {\n",
    "    #    \"C\": [0.01, 0.1, 1, 10, 100],\n",
    "    #    \"kernel\": ['linear', 'rbf']\n",
    "    # }\n",
    "\n",
    "    return model, param_grid"
   ]
  },
  {
   "cell_type": "code",
   "execution_count": 18,
   "metadata": {},
   "outputs": [
    {
     "name": "stdout",
     "output_type": "stream",
     "text": [
      "0.634980988593\n"
     ]
    }
   ],
   "source": [
    "from sklearn.model_selection import GridSearchCV\n",
    "\n",
    "model, param_grid = get_model_and_grid()\n",
    "\n",
    "grid = GridSearchCV(model, param_grid, cv=5, return_train_score=True)\n",
    "\n",
    "grid.fit(X, y)\n",
    "\n",
    "print(grid.best_score_)\n",
    "\n",
    "model = grid.best_estimator_\n",
    "\n",
    "y_model = model.predict(X)\n",
    "\n",
    "confidence = model.predict_proba(X)"
   ]
  },
  {
   "cell_type": "code",
   "execution_count": 22,
   "metadata": {},
   "outputs": [],
   "source": [
    "def confidence_stats(interval):\n",
    "    \n",
    "    correct_count = 0\n",
    "    total_count = 0\n",
    "    \n",
    "    for i,v in enumerate(y_model):\n",
    "        if np.max(confidence[i]) >= interval:\n",
    "            total_count += 1\n",
    "            if y[i] == y_model[i]:\n",
    "                correct_count += 1\n",
    "    \n",
    "    return correct_count, total_count, interval\n",
    "\n",
    "def render_confidence(stats):\n",
    "    if stats[1] == 0:\n",
    "        print(stats[2], \" confidence no correct preds found\")\n",
    "    else:\n",
    "        print(stats[2], stats[0], stats[1], stats[0]/stats[1])"
   ]
  },
  {
   "cell_type": "code",
   "execution_count": 23,
   "metadata": {},
   "outputs": [
    {
     "name": "stdout",
     "output_type": "stream",
     "text": [
      "0.8 28 35 0.8\n",
      "0.9  confidence no correct preds found\n",
      "0.95  confidence no correct preds found\n"
     ]
    }
   ],
   "source": [
    "at_80 = render_confidence(confidence_stats(0.8))\n",
    "\n",
    "at_90 = render_confidence(confidence_stats(0.9))\n",
    "\n",
    "at_95 = render_confidence(confidence_stats(0.95))"
   ]
  },
  {
   "cell_type": "code",
   "execution_count": 24,
   "metadata": {},
   "outputs": [
    {
     "data": {
      "text/plain": [
       "<matplotlib.axes._subplots.AxesSubplot at 0x1f7078e2518>"
      ]
     },
     "execution_count": 24,
     "metadata": {},
     "output_type": "execute_result"
    },
    {
     "data": {
      "image/png": "[encoded data removed]",
      "text/plain": [
       "<matplotlib.figure.Figure at 0x1f77fc095f8>"
      ]
     },
     "metadata": {},
     "output_type": "display_data"
    }
   ],
   "source": [
    "#sns.pairplot(data, hue='home_win')\n",
    "\n",
    "from sklearn.metrics import confusion_matrix\n",
    "\n",
    "mat = confusion_matrix(y_true=y, y_pred=y_model)\n",
    "\n",
    "sns.heatmap(mat.T, annot=True, fmt='d')"
   ]
  },
  {
   "cell_type": "code",
   "execution_count": 35,
   "metadata": {},
   "outputs": [
    {
     "data": {
      "text/html": [
       "<div>\n",
       "<style scoped>\n",
       "    .dataframe tbody tr th:only-of-type {\n",
       "        vertical-align: middle;\n",
       "    }\n",
       "\n",
       "    .dataframe tbody tr th {\n",
       "        vertical-align: top;\n",
       "    }\n",
       "\n",
       "    .dataframe thead th {\n",
       "        text-align: right;\n",
       "    }\n",
       "</style>\n",
       "<table border=\"1\" class=\"dataframe\">\n",
       "  <thead>\n",
       "    <tr style=\"text-align: right;\">\n",
       "      <th></th>\n",
       "      <th>away</th>\n",
       "      <th>home</th>\n",
       "      <th>away_pct</th>\n",
       "      <th>home_pct</th>\n",
       "      <th>away_pts</th>\n",
       "      <th>home_pts</th>\n",
       "      <th>home_win</th>\n",
       "    </tr>\n",
       "  </thead>\n",
       "  <tbody>\n",
       "    <tr>\n",
       "      <th>0</th>\n",
       "      <td>Minnesota Vikings</td>\n",
       "      <td>Green Bay Packers</td>\n",
       "      <td>0.50</td>\n",
       "      <td>0.50</td>\n",
       "      <td>22.75</td>\n",
       "      <td>23.00</td>\n",
       "      <td>1</td>\n",
       "    </tr>\n",
       "    <tr>\n",
       "      <th>1</th>\n",
       "      <td>Cleveland Browns</td>\n",
       "      <td>Tennessee Titans</td>\n",
       "      <td>0.25</td>\n",
       "      <td>0.25</td>\n",
       "      <td>18.50</td>\n",
       "      <td>15.00</td>\n",
       "      <td>0</td>\n",
       "    </tr>\n",
       "    <tr>\n",
       "      <th>2</th>\n",
       "      <td>Pittsburgh Steelers</td>\n",
       "      <td>Jacksonville Jaguars</td>\n",
       "      <td>0.50</td>\n",
       "      <td>0.00</td>\n",
       "      <td>24.25</td>\n",
       "      <td>14.50</td>\n",
       "      <td>0</td>\n",
       "    </tr>\n",
       "    <tr>\n",
       "      <th>3</th>\n",
       "      <td>St. Louis Rams</td>\n",
       "      <td>Philadelphia Eagles</td>\n",
       "      <td>0.25</td>\n",
       "      <td>0.75</td>\n",
       "      <td>14.00</td>\n",
       "      <td>30.50</td>\n",
       "      <td>1</td>\n",
       "    </tr>\n",
       "    <tr>\n",
       "      <th>4</th>\n",
       "      <td>Buffalo Bills</td>\n",
       "      <td>Detroit Lions</td>\n",
       "      <td>0.50</td>\n",
       "      <td>0.75</td>\n",
       "      <td>19.75</td>\n",
       "      <td>21.25</td>\n",
       "      <td>0</td>\n",
       "    </tr>\n",
       "  </tbody>\n",
       "</table>\n",
       "</div>"
      ],
      "text/plain": [
       "                  away                  home  away_pct  home_pct  away_pts  \\\n",
       "0    Minnesota Vikings     Green Bay Packers      0.50      0.50     22.75   \n",
       "1     Cleveland Browns      Tennessee Titans      0.25      0.25     18.50   \n",
       "2  Pittsburgh Steelers  Jacksonville Jaguars      0.50      0.00     24.25   \n",
       "3       St. Louis Rams   Philadelphia Eagles      0.25      0.75     14.00   \n",
       "4        Buffalo Bills         Detroit Lions      0.50      0.75     19.75   \n",
       "\n",
       "   home_pts  home_win  \n",
       "0     23.00         1  \n",
       "1     15.00         0  \n",
       "2     14.50         0  \n",
       "3     30.50         1  \n",
       "4     21.25         0  "
      ]
     },
     "execution_count": 35,
     "metadata": {},
     "output_type": "execute_result"
    }
   ],
   "source": [
    "data.head()"
   ]
  },
  {
   "cell_type": "code",
   "execution_count": 27,
   "metadata": {},
   "outputs": [],
   "source": [
    "from sklearn.externals import joblib\n",
    "from sklearn.metrics import accuracy_score\n",
    "from sklearn.metrics import f1_score\n",
    "\n",
    "def evaluate(weeks_to_roll):\n",
    "    data = pd.read_csv(f\"output\\\\{weeks_to_roll}trainingdata.csv\")\n",
    "    \n",
    "    y = data.home_win\n",
    "    X = data.drop([\"home_win\", \"home\", \"away\"], axis=1, inplace=False)\n",
    "    \n",
    "    model = joblib.load(f\"models\\\\{weeks_to_roll}_model.pkl\")\n",
    "    \n",
    "    y_predicted = model.predict(X)\n",
    "    \n",
    "    accuracy = accuracy_score(y, y_predicted)\n",
    "    f1 = f1_score(y, y_predicted)\n",
    "    \n",
    "    print(f\"{weeks_to_roll} accuracy: {accuracy}\")\n",
    "    print(f\"{weeks_to_roll} f1: {f1}\" )\n",
    "    \n",
    "    with open(f\"summary_{weeks_to_roll}.csv\", 'w') as f:\n",
    "        for i,v in enumerate(y):\n",
    "            f.write(f\"{y[i]},{y_predicted[i]}\\n\")"
   ]
  },
  {
   "cell_type": "code",
   "execution_count": 29,
   "metadata": {},
   "outputs": [
    {
     "name": "stdout",
     "output_type": "stream",
     "text": [
      "2 accuracy: 0.5790031813361611\n",
      "2 f1: 0.6900858704137393\n",
      "3 accuracy: 0.6095017381228274\n",
      "3 f1: 0.6916742909423604\n",
      "4 accuracy: 0.6349809885931559\n",
      "4 f1: 0.6936170212765957\n",
      "5 accuracy: 0.6387726638772664\n",
      "5 f1: 0.7012687427912341\n",
      "6 accuracy: 0.644916540212443\n",
      "6 f1: 0.7200956937799042\n"
     ]
    }
   ],
   "source": [
    "weeks = np.arange(2,7)\n",
    "\n",
    "for w in weeks:\n",
    "    evaluate(w)"
   ]
  },
  {
   "cell_type": "code",
   "execution_count": null,
   "metadata": {},
   "outputs": [],
   "source": [
    "weeks = np.arange"
   ]
  },
  {
   "cell_type": "code",
   "execution_count": null,
   "metadata": {},
   "outputs": [],
   "source": []
  }
 ],
 "metadata": {
  "kernelspec": {
   "display_name": "Python 3",
   "language": "python",
   "name": "python3"
  },
  "language_info": {
   "codemirror_mode": {
    "name": "ipython",
    "version": 3
   },
   "file_extension": ".py",
   "mimetype": "text/x-python",
   "name": "python",
   "nbconvert_exporter": "python",
   "pygments_lexer": "ipython3",
   "version": "3.6.4"
  }
 },
 "nbformat": 4,
 "nbformat_minor": 2
}
