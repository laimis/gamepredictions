{
 "cells": [
  {
   "cell_type": "code",
   "execution_count": 3,
   "metadata": {},
   "outputs": [],
   "source": [
    "%matplotlib inline\n",
    "import matplotlib.pyplot as plt\n",
    "import seaborn as sns\n",
    "import pandas as pd\n",
    "import numpy as np\n",
    "\n",
    "sns.set()\n",
    "\n",
    "import common"
   ]
  },
  {
   "cell_type": "code",
   "execution_count": 43,
   "metadata": {},
   "outputs": [],
   "source": [
    "test_file = f\"output\\\\nba\\\\test\\\\train.csv\"\n",
    "model_file = f\"models\\\\nba\\\\model.pkl\"\n",
    "\n",
    "model = common.load_model(model_file)\n",
    "data, y = common.read_data_from_file(test_file, \"home_win\", [\"counter\", \"home_win\"])"
   ]
  },
  {
   "cell_type": "code",
   "execution_count": 44,
   "metadata": {},
   "outputs": [],
   "source": [
    "X = data.drop([\"year\", \"date\", \"away\", \"home\"], axis=1, inplace=False)"
   ]
  },
  {
   "cell_type": "code",
   "execution_count": 58,
   "metadata": {},
   "outputs": [
    {
     "name": "stdout",
     "output_type": "stream",
     "text": [
      "734/1138 = 0.6450\n"
     ]
    }
   ],
   "source": [
    "total = 0\n",
    "correct = 0\n",
    "\n",
    "teams = {}\n",
    "\n",
    "for index, row in data.iterrows():\n",
    "    \n",
    "    total += 1\n",
    "    \n",
    "    features = [X.iloc[index]]\n",
    "    \n",
    "    predicted = model.predict(features)[0]\n",
    "    real = y.iloc[index]\n",
    "    \n",
    "    confidences = model.predict_proba(features)[0]\n",
    "    max_confidence = max(confidences)\n",
    "    \n",
    "    if real == predicted: correct += 1\n",
    "    #if max_confidence > 0.9 and real != predicted:\n",
    "    \n",
    "    home = row[\"home\"]\n",
    "    away = row[\"away\"]\n",
    "    \n",
    "    if home not in teams: teams[home]={\"correct\":0, \"total\":0}\n",
    "    if away not in teams: teams[away]={\"correct\":0, \"total\":0}\n",
    "        \n",
    "    if real == 1 and predicted == 1:\n",
    "        teams[home][\"correct\"] += 1\n",
    "        teams[away][\"correct\"] += 1\n",
    "    if real == 0 and predicted == 0:\n",
    "        teams[home][\"correct\"] += 1\n",
    "        teams[away][\"correct\"] += 1\n",
    "    \n",
    "    teams[home][\"total\"] += 1\n",
    "    teams[away][\"total\"] += 1\n",
    "\n",
    "print(f\"{correct}/{total} = {correct/total:.4f}\")"
   ]
  },
  {
   "cell_type": "code",
   "execution_count": 61,
   "metadata": {},
   "outputs": [
    {
     "name": "stdout",
     "output_type": "stream",
     "text": [
      "Utah Jazz\t\t\t\t0.66\n",
      "Dallas Mavericks\t\t\t\t0.61\n",
      "Brooklyn Nets\t\t\t\t0.63\n",
      "Phoenix Suns\t\t\t\t0.71\n",
      "Indiana Pacers\t\t\t\t0.58\n",
      "Sacramento Kings\t\t\t\t0.62\n",
      "Los Angeles Lakers\t\t\t\t0.63\n",
      "Detroit Pistons\t\t\t\t0.59\n",
      "Milwaukee Bucks\t\t\t\t0.61\n",
      "Oklahoma City Thunder\t\t\t\t0.53\n",
      "Boston Celtics\t\t\t\t0.62\n",
      "Charlotte Hornets\t\t\t\t0.61\n",
      "Cleveland Cavaliers\t\t\t\t0.67\n",
      "Denver Nuggets\t\t\t\t0.74\n",
      "Toronto Raptors\t\t\t\t0.69\n",
      "Los Angeles Clippers\t\t\t\t0.68\n",
      "Memphis Grizzlies\t\t\t\t0.68\n",
      "Orlando Magic\t\t\t\t0.72\n",
      "Miami Heat\t\t\t\t0.57\n",
      "Chicago Bulls\t\t\t\t0.68\n",
      "New Orleans Pelicans\t\t\t\t0.62\n",
      "Minnesota Timberwolves\t\t\t\t0.62\n",
      "New York Knicks\t\t\t\t0.64\n",
      "Houston Rockets\t\t\t\t0.78\n",
      "Philadelphia 76ers\t\t\t\t0.65\n",
      "Atlanta Hawks\t\t\t\t0.63\n",
      "Portland Trail Blazers\t\t\t\t0.60\n",
      "Washington Wizards\t\t\t\t0.53\n",
      "San Antonio Spurs\t\t\t\t0.69\n",
      "Golden State Warriors\t\t\t\t0.77\n"
     ]
    }
   ],
   "source": [
    "for k in teams:\n",
    "    pct = teams[k][\"correct\"] / teams[k][\"total\"]\n",
    "    print(f\"{k}\t\t\t\t{pct:.2f}\")\n",
    "        "
   ]
  },
  {
   "cell_type": "code",
   "execution_count": null,
   "metadata": {},
   "outputs": [],
   "source": []
  }
 ],
 "metadata": {
  "kernelspec": {
   "display_name": "Python 3",
   "language": "python",
   "name": "python3"
  },
  "language_info": {
   "codemirror_mode": {
    "name": "ipython",
    "version": 3
   },
   "file_extension": ".py",
   "mimetype": "text/x-python",
   "name": "python",
   "nbconvert_exporter": "python",
   "pygments_lexer": "ipython3",
   "version": "3.6.4"
  }
 },
 "nbformat": 4,
 "nbformat_minor": 2
}
