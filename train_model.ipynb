{
 "cells": [
  {
   "cell_type": "code",
   "execution_count": 36,
   "metadata": {},
   "outputs": [],
   "source": [
    "%matplotlib inline\n",
    "import matplotlib.pyplot as plt\n",
    "import seaborn as sns\n",
    "import pandas as pd\n",
    "import numpy as np\n",
    "\n",
    "from sklearn.externals import joblib\n",
    "\n",
    "sns.set()"
   ]
  },
  {
   "cell_type": "code",
   "execution_count": 93,
   "metadata": {},
   "outputs": [],
   "source": [
    "data = pd.read_csv(\"output\\\\6trainingdata.csv\")"
   ]
  },
  {
   "cell_type": "code",
   "execution_count": 94,
   "metadata": {},
   "outputs": [
    {
     "data": {
      "text/plain": [
       "(657, 9)"
      ]
     },
     "execution_count": 94,
     "metadata": {},
     "output_type": "execute_result"
    }
   ],
   "source": [
    "data.shape"
   ]
  },
  {
   "cell_type": "code",
   "execution_count": 63,
   "metadata": {},
   "outputs": [
    {
     "data": {
      "text/plain": [
       "count    786.000000\n",
       "mean       0.567430\n",
       "std        0.495748\n",
       "min        0.000000\n",
       "25%        0.000000\n",
       "50%        1.000000\n",
       "75%        1.000000\n",
       "max        1.000000\n",
       "Name: home_win, dtype: float64"
      ]
     },
     "execution_count": 63,
     "metadata": {},
     "output_type": "execute_result"
    }
   ],
   "source": [
    "data[\"home_win\"].describe()"
   ]
  },
  {
   "cell_type": "code",
   "execution_count": 95,
   "metadata": {},
   "outputs": [
    {
     "data": {
      "text/plain": [
       "count    110.000000\n",
       "mean       0.572727\n",
       "std        0.496946\n",
       "min        0.000000\n",
       "25%        0.000000\n",
       "50%        1.000000\n",
       "75%        1.000000\n",
       "max        1.000000\n",
       "Name: home_win, dtype: float64"
      ]
     },
     "execution_count": 95,
     "metadata": {},
     "output_type": "execute_result"
    }
   ],
   "source": [
    "data[data[\"home_pct\"] == data[\"away_pct\"]][\"home_win\"].describe()"
   ]
  },
  {
   "cell_type": "code",
   "execution_count": 154,
   "metadata": {},
   "outputs": [
    {
     "data": {
      "text/plain": [
       "0.8518518518518519"
      ]
     },
     "execution_count": 154,
     "metadata": {},
     "output_type": "execute_result"
    }
   ],
   "source": [
    "data[data[\"home_pct\"] == 1][\"home_win\"].mean()"
   ]
  },
  {
   "cell_type": "code",
   "execution_count": 97,
   "metadata": {},
   "outputs": [
    {
     "data": {
      "text/plain": [
       "count    263.000000\n",
       "mean       0.741445\n",
       "std        0.438675\n",
       "min        0.000000\n",
       "25%        0.000000\n",
       "50%        1.000000\n",
       "75%        1.000000\n",
       "max        1.000000\n",
       "Name: home_win, dtype: float64"
      ]
     },
     "execution_count": 97,
     "metadata": {},
     "output_type": "execute_result"
    }
   ],
   "source": [
    "data[data[\"home_pct\"] > data[\"away_pct\"]][\"home_win\"].describe()"
   ]
  },
  {
   "cell_type": "code",
   "execution_count": 98,
   "metadata": {},
   "outputs": [
    {
     "data": {
      "text/plain": [
       "count    284.000000\n",
       "mean       0.415493\n",
       "std        0.493677\n",
       "min        0.000000\n",
       "25%        0.000000\n",
       "50%        0.000000\n",
       "75%        1.000000\n",
       "max        1.000000\n",
       "Name: home_win, dtype: float64"
      ]
     },
     "execution_count": 98,
     "metadata": {},
     "output_type": "execute_result"
    }
   ],
   "source": [
    "data[data[\"away_pct\"] > data[\"home_pct\"]][\"home_win\"].describe()"
   ]
  },
  {
   "cell_type": "code",
   "execution_count": 147,
   "metadata": {},
   "outputs": [
    {
     "data": {
      "text/plain": [
       "count    22.000000\n",
       "mean      0.545455\n",
       "std       0.509647\n",
       "min       0.000000\n",
       "25%       0.000000\n",
       "50%       1.000000\n",
       "75%       1.000000\n",
       "max       1.000000\n",
       "Name: home_win, dtype: float64"
      ]
     },
     "execution_count": 147,
     "metadata": {},
     "output_type": "execute_result"
    }
   ],
   "source": [
    "data[data[\"home\"] == \"New Orleans Saints\"][\"home_win\"].describe()"
   ]
  },
  {
   "cell_type": "code",
   "execution_count": 125,
   "metadata": {},
   "outputs": [],
   "source": [
    "from sklearn.naive_bayes import GaussianNB\n",
    "from sklearn.tree import DecisionTreeClassifier\n",
    "from sklearn.ensemble import AdaBoostClassifier\n",
    "from sklearn.svm import SVC\n",
    "from sklearn.neural_network import MLPClassifier\n",
    "\n",
    "def get_model_and_grid():\n",
    "\n",
    "    #model = MLPClassifier()\n",
    "    #param_grid = {    \n",
    "    #}\n",
    "    \n",
    "    #model = GaussianNB()\n",
    "    #param_grid = {\n",
    "    #}\n",
    "    \n",
    "    #model = DecisionTreeClassifier()\n",
    "\n",
    "    #model = AdaBoostClassifier()\n",
    "    #param_grid = {\n",
    "    #    \"learning_rate\": [0.01, 0.1, 0.5, 1, 10],\n",
    "    #    \"n_estimators\": [1, 10, 50, 100]\n",
    "    #}\n",
    "\n",
    "    #print(\"getting model\")\n",
    "    #\n",
    "    #model = SVC()\n",
    "    #\n",
    "    #param_grid = {\n",
    "    #    \"C\": [0.01, 0.1, 1, 10, 100],\n",
    "    #    \"kernel\": ['linear', 'rbf']\n",
    "    # }\n",
    "    \n",
    "    model = MLPClassifier(max_iter=500)\n",
    "    param_grid = {\n",
    "        \"alpha\": [0.001, 0.01, 0.1, 1],\n",
    "        \"hidden_layer_sizes\": [(10), (100), (100,100), (100, 100, 100)]\n",
    "    }\n",
    "\n",
    "    return model, param_grid"
   ]
  },
  {
   "cell_type": "code",
   "execution_count": 139,
   "metadata": {},
   "outputs": [
    {
     "name": "stdout",
     "output_type": "stream",
     "text": [
      "0.654490106545\n",
      "{'alpha': 0.001, 'hidden_layer_sizes': (100, 100, 100)}\n"
     ]
    }
   ],
   "source": [
    "from sklearn.model_selection import GridSearchCV\n",
    "from sklearn.preprocessing import StandardScaler\n",
    "\n",
    "y = data.home_win\n",
    "X = data.drop([\"home_win\", \"home\", \"away\"], axis=1, inplace=False)\n",
    "\n",
    "model, param_grid = get_model_and_grid()\n",
    "\n",
    "grid = GridSearchCV(model, param_grid, cv=10, return_train_score=True)\n",
    "\n",
    "grid.fit(X, y)\n",
    "\n",
    "print(grid.best_score_)\n",
    "print(grid.best_params_)\n",
    "\n",
    "model = grid.best_estimator_\n",
    "\n",
    "y_model = model.predict(X)\n",
    "\n",
    "confidence = model.predict_proba(X)"
   ]
  },
  {
   "cell_type": "code",
   "execution_count": 140,
   "metadata": {},
   "outputs": [],
   "source": [
    "def confidence_stats(interval):\n",
    "    \n",
    "    correct_count = 0\n",
    "    total_count = 0\n",
    "    \n",
    "    for i,v in enumerate(y_model):\n",
    "        if np.max(confidence[i]) >= interval:\n",
    "            total_count += 1\n",
    "            if y[i] == y_model[i]:\n",
    "                correct_count += 1\n",
    "    \n",
    "    return correct_count, total_count, interval\n",
    "\n",
    "def render_confidence(stats):\n",
    "    if stats[1] == 0:\n",
    "        print(stats[2], \" confidence no correct preds found\")\n",
    "    else:\n",
    "        print(stats[2], stats[0], stats[1], stats[0]/stats[1])"
   ]
  },
  {
   "cell_type": "code",
   "execution_count": 141,
   "metadata": {},
   "outputs": [
    {
     "name": "stdout",
     "output_type": "stream",
     "text": [
      "0.7 204 242 0.8429752066115702\n",
      "0.9 19 20 0.95\n",
      "0.95 6 6 1.0\n"
     ]
    }
   ],
   "source": [
    "at_80 = render_confidence(confidence_stats(0.7))\n",
    "\n",
    "at_90 = render_confidence(confidence_stats(0.9))\n",
    "\n",
    "at_95 = render_confidence(confidence_stats(0.95))"
   ]
  },
  {
   "cell_type": "code",
   "execution_count": 142,
   "metadata": {},
   "outputs": [
    {
     "data": {
      "text/plain": [
       "<matplotlib.axes._subplots.AxesSubplot at 0x1f7096ba860>"
      ]
     },
     "execution_count": 142,
     "metadata": {},
     "output_type": "execute_result"
    },
    {
     "data": {
      "image/png": "[encoded data removed]",
      "text/plain": [
       "<matplotlib.figure.Figure at 0x1f7096ba5c0>"
      ]
     },
     "metadata": {},
     "output_type": "display_data"
    }
   ],
   "source": [
    "#sns.pairplot(data, hue='home_win')\n",
    "\n",
    "from sklearn.metrics import confusion_matrix\n",
    "\n",
    "mat = confusion_matrix(y_true=y, y_pred=y_model)\n",
    "\n",
    "sns.heatmap(mat.T, annot=True, fmt='d')"
   ]
  },
  {
   "cell_type": "code",
   "execution_count": 133,
   "metadata": {},
   "outputs": [
    {
     "data": {
      "text/html": [
       "<div>\n",
       "<style scoped>\n",
       "    .dataframe tbody tr th:only-of-type {\n",
       "        vertical-align: middle;\n",
       "    }\n",
       "\n",
       "    .dataframe tbody tr th {\n",
       "        vertical-align: top;\n",
       "    }\n",
       "\n",
       "    .dataframe thead th {\n",
       "        text-align: right;\n",
       "    }\n",
       "</style>\n",
       "<table border=\"1\" class=\"dataframe\">\n",
       "  <thead>\n",
       "    <tr style=\"text-align: right;\">\n",
       "      <th></th>\n",
       "      <th>away</th>\n",
       "      <th>home</th>\n",
       "      <th>away_pct</th>\n",
       "      <th>home_pct</th>\n",
       "      <th>away_pts</th>\n",
       "      <th>home_pts</th>\n",
       "      <th>away_diff</th>\n",
       "      <th>home_diff</th>\n",
       "      <th>home_win</th>\n",
       "    </tr>\n",
       "  </thead>\n",
       "  <tbody>\n",
       "    <tr>\n",
       "      <th>0</th>\n",
       "      <td>New York Jets</td>\n",
       "      <td>New England Patriots</td>\n",
       "      <td>0.166667</td>\n",
       "      <td>0.666667</td>\n",
       "      <td>16.000000</td>\n",
       "      <td>26.666667</td>\n",
       "      <td>-62</td>\n",
       "      <td>31</td>\n",
       "      <td>1</td>\n",
       "    </tr>\n",
       "    <tr>\n",
       "      <th>1</th>\n",
       "      <td>Seattle Seahawks</td>\n",
       "      <td>St. Louis Rams</td>\n",
       "      <td>0.500000</td>\n",
       "      <td>0.166667</td>\n",
       "      <td>22.166667</td>\n",
       "      <td>16.833333</td>\n",
       "      <td>20</td>\n",
       "      <td>-49</td>\n",
       "      <td>1</td>\n",
       "    </tr>\n",
       "    <tr>\n",
       "      <th>2</th>\n",
       "      <td>Miami Dolphins</td>\n",
       "      <td>Chicago Bears</td>\n",
       "      <td>0.333333</td>\n",
       "      <td>0.500000</td>\n",
       "      <td>20.000000</td>\n",
       "      <td>23.833333</td>\n",
       "      <td>-4</td>\n",
       "      <td>-1</td>\n",
       "      <td>0</td>\n",
       "    </tr>\n",
       "    <tr>\n",
       "      <th>3</th>\n",
       "      <td>Cleveland Browns</td>\n",
       "      <td>Jacksonville Jaguars</td>\n",
       "      <td>0.500000</td>\n",
       "      <td>0.000000</td>\n",
       "      <td>22.333333</td>\n",
       "      <td>13.500000</td>\n",
       "      <td>19</td>\n",
       "      <td>-104</td>\n",
       "      <td>1</td>\n",
       "    </tr>\n",
       "    <tr>\n",
       "      <th>4</th>\n",
       "      <td>Cincinnati Bengals</td>\n",
       "      <td>Indianapolis Colts</td>\n",
       "      <td>0.500000</td>\n",
       "      <td>0.666667</td>\n",
       "      <td>16.166667</td>\n",
       "      <td>31.500000</td>\n",
       "      <td>21</td>\n",
       "      <td>53</td>\n",
       "      <td>1</td>\n",
       "    </tr>\n",
       "  </tbody>\n",
       "</table>\n",
       "</div>"
      ],
      "text/plain": [
       "                 away                  home  away_pct  home_pct   away_pts  \\\n",
       "0       New York Jets  New England Patriots  0.166667  0.666667  16.000000   \n",
       "1    Seattle Seahawks        St. Louis Rams  0.500000  0.166667  22.166667   \n",
       "2      Miami Dolphins         Chicago Bears  0.333333  0.500000  20.000000   \n",
       "3    Cleveland Browns  Jacksonville Jaguars  0.500000  0.000000  22.333333   \n",
       "4  Cincinnati Bengals    Indianapolis Colts  0.500000  0.666667  16.166667   \n",
       "\n",
       "    home_pts  away_diff  home_diff  home_win  \n",
       "0  26.666667        -62         31         1  \n",
       "1  16.833333         20        -49         1  \n",
       "2  23.833333         -4         -1         0  \n",
       "3  13.500000         19       -104         1  \n",
       "4  31.500000         21         53         1  "
      ]
     },
     "execution_count": 133,
     "metadata": {},
     "output_type": "execute_result"
    }
   ],
   "source": [
    "data.head()"
   ]
  },
  {
   "cell_type": "code",
   "execution_count": 143,
   "metadata": {},
   "outputs": [
    {
     "data": {
      "text/html": [
       "<div>\n",
       "<style scoped>\n",
       "    .dataframe tbody tr th:only-of-type {\n",
       "        vertical-align: middle;\n",
       "    }\n",
       "\n",
       "    .dataframe tbody tr th {\n",
       "        vertical-align: top;\n",
       "    }\n",
       "\n",
       "    .dataframe thead th {\n",
       "        text-align: right;\n",
       "    }\n",
       "</style>\n",
       "<table border=\"1\" class=\"dataframe\">\n",
       "  <thead>\n",
       "    <tr style=\"text-align: right;\">\n",
       "      <th></th>\n",
       "      <th>away_pct</th>\n",
       "      <th>home_pct</th>\n",
       "      <th>away_pts</th>\n",
       "      <th>home_pts</th>\n",
       "      <th>away_diff</th>\n",
       "      <th>home_diff</th>\n",
       "    </tr>\n",
       "  </thead>\n",
       "  <tbody>\n",
       "    <tr>\n",
       "      <th>0</th>\n",
       "      <td>0.166667</td>\n",
       "      <td>0.666667</td>\n",
       "      <td>16.000000</td>\n",
       "      <td>26.666667</td>\n",
       "      <td>-62</td>\n",
       "      <td>31</td>\n",
       "    </tr>\n",
       "    <tr>\n",
       "      <th>1</th>\n",
       "      <td>0.500000</td>\n",
       "      <td>0.166667</td>\n",
       "      <td>22.166667</td>\n",
       "      <td>16.833333</td>\n",
       "      <td>20</td>\n",
       "      <td>-49</td>\n",
       "    </tr>\n",
       "    <tr>\n",
       "      <th>2</th>\n",
       "      <td>0.333333</td>\n",
       "      <td>0.500000</td>\n",
       "      <td>20.000000</td>\n",
       "      <td>23.833333</td>\n",
       "      <td>-4</td>\n",
       "      <td>-1</td>\n",
       "    </tr>\n",
       "    <tr>\n",
       "      <th>3</th>\n",
       "      <td>0.500000</td>\n",
       "      <td>0.000000</td>\n",
       "      <td>22.333333</td>\n",
       "      <td>13.500000</td>\n",
       "      <td>19</td>\n",
       "      <td>-104</td>\n",
       "    </tr>\n",
       "    <tr>\n",
       "      <th>4</th>\n",
       "      <td>0.500000</td>\n",
       "      <td>0.666667</td>\n",
       "      <td>16.166667</td>\n",
       "      <td>31.500000</td>\n",
       "      <td>21</td>\n",
       "      <td>53</td>\n",
       "    </tr>\n",
       "  </tbody>\n",
       "</table>\n",
       "</div>"
      ],
      "text/plain": [
       "   away_pct  home_pct   away_pts   home_pts  away_diff  home_diff\n",
       "0  0.166667  0.666667  16.000000  26.666667        -62         31\n",
       "1  0.500000  0.166667  22.166667  16.833333         20        -49\n",
       "2  0.333333  0.500000  20.000000  23.833333         -4         -1\n",
       "3  0.500000  0.000000  22.333333  13.500000         19       -104\n",
       "4  0.500000  0.666667  16.166667  31.500000         21         53"
      ]
     },
     "execution_count": 143,
     "metadata": {},
     "output_type": "execute_result"
    }
   ],
   "source": [
    "X.head()"
   ]
  },
  {
   "cell_type": "code",
   "execution_count": 155,
   "metadata": {},
   "outputs": [],
   "source": [
    "MLPClassifier?"
   ]
  }
 ],
 "metadata": {
  "kernelspec": {
   "display_name": "Python 3",
   "language": "python",
   "name": "python3"
  },
  "language_info": {
   "codemirror_mode": {
    "name": "ipython",
    "version": 3
   },
   "file_extension": ".py",
   "mimetype": "text/x-python",
   "name": "python",
   "nbconvert_exporter": "python",
   "pygments_lexer": "ipython3",
   "version": "3.6.4"
  }
 },
 "nbformat": 4,
 "nbformat_minor": 2
}
