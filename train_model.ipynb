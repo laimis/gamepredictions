{
 "cells": [
  {
   "cell_type": "code",
   "execution_count": 17,
   "metadata": {},
   "outputs": [],
   "source": [
    "%matplotlib inline\n",
    "import matplotlib.pyplot as plt\n",
    "import seaborn as sns\n",
    "import pandas as pd\n",
    "import numpy as np\n",
    "\n",
    "from sklearn.externals import joblib\n",
    "\n",
    "sns.set()"
   ]
  },
  {
   "cell_type": "code",
   "execution_count": 59,
   "metadata": {},
   "outputs": [],
   "source": [
    "data = pd.read_csv(\"output\\\\4trainingdata.csv\")"
   ]
  },
  {
   "cell_type": "code",
   "execution_count": 60,
   "metadata": {},
   "outputs": [
    {
     "data": {
      "text/plain": [
       "(30, 3)"
      ]
     },
     "execution_count": 60,
     "metadata": {},
     "output_type": "execute_result"
    }
   ],
   "source": [
    "data.shape"
   ]
  },
  {
   "cell_type": "code",
   "execution_count": 61,
   "metadata": {},
   "outputs": [
    {
     "data": {
      "text/plain": [
       "count    30.000000\n",
       "mean      0.700000\n",
       "std       0.466092\n",
       "min       0.000000\n",
       "25%       0.000000\n",
       "50%       1.000000\n",
       "75%       1.000000\n",
       "max       1.000000\n",
       "Name: home_win, dtype: float64"
      ]
     },
     "execution_count": 61,
     "metadata": {},
     "output_type": "execute_result"
    }
   ],
   "source": [
    "data[\"home_win\"].describe()"
   ]
  },
  {
   "cell_type": "code",
   "execution_count": 24,
   "metadata": {},
   "outputs": [
    {
     "data": {
      "text/plain": [
       "count    174.000000\n",
       "mean       0.614943\n",
       "std        0.488013\n",
       "min        0.000000\n",
       "25%        0.000000\n",
       "50%        1.000000\n",
       "75%        1.000000\n",
       "max        1.000000\n",
       "Name: home_win, dtype: float64"
      ]
     },
     "execution_count": 24,
     "metadata": {},
     "output_type": "execute_result"
    }
   ],
   "source": [
    "data[data[\"home_pct\"] == data[\"away_pct\"]][\"home_win\"].describe()"
   ]
  },
  {
   "cell_type": "code",
   "execution_count": 25,
   "metadata": {},
   "outputs": [
    {
     "data": {
      "text/plain": [
       "0.0"
      ]
     },
     "execution_count": 25,
     "metadata": {},
     "output_type": "execute_result"
    }
   ],
   "source": [
    "data[data[\"away_pct\"] == 1][\"home_win\"].mean()"
   ]
  },
  {
   "cell_type": "code",
   "execution_count": 26,
   "metadata": {},
   "outputs": [
    {
     "data": {
      "text/plain": [
       "count    363.000000\n",
       "mean       0.969697\n",
       "std        0.171656\n",
       "min        0.000000\n",
       "25%        1.000000\n",
       "50%        1.000000\n",
       "75%        1.000000\n",
       "max        1.000000\n",
       "Name: home_win, dtype: float64"
      ]
     },
     "execution_count": 26,
     "metadata": {},
     "output_type": "execute_result"
    }
   ],
   "source": [
    "data[data[\"home_pct\"] > data[\"away_pct\"]][\"home_win\"].describe()"
   ]
  },
  {
   "cell_type": "code",
   "execution_count": 27,
   "metadata": {},
   "outputs": [],
   "source": [
    "y = data.home_win"
   ]
  },
  {
   "cell_type": "code",
   "execution_count": 28,
   "metadata": {},
   "outputs": [],
   "source": [
    "X = data.drop(\"home_win\", axis=1, inplace=False)"
   ]
  },
  {
   "cell_type": "code",
   "execution_count": 36,
   "metadata": {},
   "outputs": [],
   "source": [
    "from sklearn.naive_bayes import GaussianNB\n",
    "from sklearn.tree import DecisionTreeClassifier\n",
    "from sklearn.ensemble import AdaBoostClassifier\n",
    "from sklearn.svm import SVC\n",
    "from sklearn.neural_network import MLPClassifier\n",
    "\n",
    "def get_model_and_grid():\n",
    "\n",
    "    #model = MLPClassifier()\n",
    "    #param_grid = {    \n",
    "    #}\n",
    "    \n",
    "    model = GaussianNB()\n",
    "    param_grid = {\n",
    "    }\n",
    "    \n",
    "    #model = DecisionTreeClassifier()\n",
    "\n",
    "    #model = AdaBoostClassifier()\n",
    "    #param_grid = {\n",
    "    #    \"learning_rate\": [0.01, 0.1, 0.5, 1, 10],\n",
    "    #    \"n_estimators\": [1, 10, 50, 100]\n",
    "    #}\n",
    "\n",
    "    #print(\"getting model\")\n",
    "    #\n",
    "    #model = SVC()\n",
    "    #\n",
    "    #param_grid = {\n",
    "    #    \"C\": [0.01, 0.1, 1, 10, 100],\n",
    "    #    \"kernel\": ['linear', 'rbf']\n",
    "    # }\n",
    "\n",
    "    return model, param_grid"
   ]
  },
  {
   "cell_type": "code",
   "execution_count": 37,
   "metadata": {},
   "outputs": [
    {
     "name": "stdout",
     "output_type": "stream",
     "text": [
      "0.874855156431\n"
     ]
    },
    {
     "data": {
      "text/plain": [
       "['output\\\\best_estimator.pkl']"
      ]
     },
     "execution_count": 37,
     "metadata": {},
     "output_type": "execute_result"
    }
   ],
   "source": [
    "from sklearn.model_selection import GridSearchCV\n",
    "\n",
    "model, param_grid = get_model_and_grid()\n",
    "\n",
    "grid = GridSearchCV(model, param_grid, cv=5, return_train_score=True)\n",
    "\n",
    "grid.fit(X, y)\n",
    "\n",
    "#print(grid.best_params_)\n",
    "#grid.cv_results_\n",
    "\n",
    "print(grid.best_score_)\n",
    "\n",
    "model = grid.best_estimator_\n",
    "\n",
    "y_model = model.predict(X)\n",
    "\n",
    "confidence = model.predict_proba(X)\n",
    "\n",
    "joblib.dump(grid.best_estimator_, \"output\\\\best_estimator.pkl\")"
   ]
  },
  {
   "cell_type": "code",
   "execution_count": 38,
   "metadata": {},
   "outputs": [],
   "source": [
    "def confidence_stats(interval):\n",
    "    \n",
    "    correct_count = 0\n",
    "    total_count = 0\n",
    "    \n",
    "    for i,v in enumerate(y_model):\n",
    "        if np.max(confidence[i]) >= interval:\n",
    "            total_count += 1\n",
    "            if y[i] == y_model[i]:\n",
    "                correct_count += 1\n",
    "    \n",
    "    return correct_count, total_count, interval\n",
    "\n",
    "def render_confidence(stats):\n",
    "    print(stats[2], stats[0], stats[1], stats[0]/stats[1])"
   ]
  },
  {
   "cell_type": "code",
   "execution_count": 39,
   "metadata": {},
   "outputs": [
    {
     "name": "stdout",
     "output_type": "stream",
     "text": [
      "0.8 648 689 0.9404934687953556\n",
      "0.9 515 526 0.9790874524714829\n",
      "0.95 394 394 1.0\n"
     ]
    }
   ],
   "source": [
    "at_80 = render_confidence(confidence_stats(0.8))\n",
    "\n",
    "at_90 = render_confidence(confidence_stats(0.9))\n",
    "\n",
    "at_95 = render_confidence(confidence_stats(0.95))"
   ]
  },
  {
   "cell_type": "code",
   "execution_count": 34,
   "metadata": {},
   "outputs": [
    {
     "data": {
      "text/plain": [
       "<matplotlib.axes._subplots.AxesSubplot at 0x21504e27a58>"
      ]
     },
     "execution_count": 34,
     "metadata": {},
     "output_type": "execute_result"
    },
    {
     "data": {
      "image/png": "[encoded data removed]",
      "text/plain": [
       "<matplotlib.figure.Figure at 0x21504e30320>"
      ]
     },
     "metadata": {},
     "output_type": "display_data"
    }
   ],
   "source": [
    "#sns.pairplot(data, hue='home_win')\n",
    "\n",
    "from sklearn.metrics import confusion_matrix\n",
    "\n",
    "mat = confusion_matrix(y_true=y, y_pred=y_model)\n",
    "\n",
    "sns.heatmap(mat.T, annot=True, fmt='d')"
   ]
  },
  {
   "cell_type": "code",
   "execution_count": 35,
   "metadata": {},
   "outputs": [
    {
     "data": {
      "text/html": [
       "<div>\n",
       "<style scoped>\n",
       "    .dataframe tbody tr th:only-of-type {\n",
       "        vertical-align: middle;\n",
       "    }\n",
       "\n",
       "    .dataframe tbody tr th {\n",
       "        vertical-align: top;\n",
       "    }\n",
       "\n",
       "    .dataframe thead th {\n",
       "        text-align: right;\n",
       "    }\n",
       "</style>\n",
       "<table border=\"1\" class=\"dataframe\">\n",
       "  <thead>\n",
       "    <tr style=\"text-align: right;\">\n",
       "      <th></th>\n",
       "      <th>home_pct</th>\n",
       "      <th>away_pct</th>\n",
       "      <th>home_win</th>\n",
       "    </tr>\n",
       "  </thead>\n",
       "  <tbody>\n",
       "    <tr>\n",
       "      <th>0</th>\n",
       "      <td>0.333333</td>\n",
       "      <td>0.666667</td>\n",
       "      <td>0</td>\n",
       "    </tr>\n",
       "    <tr>\n",
       "      <th>1</th>\n",
       "      <td>1.000000</td>\n",
       "      <td>0.333333</td>\n",
       "      <td>1</td>\n",
       "    </tr>\n",
       "    <tr>\n",
       "      <th>2</th>\n",
       "      <td>0.666667</td>\n",
       "      <td>0.666667</td>\n",
       "      <td>0</td>\n",
       "    </tr>\n",
       "    <tr>\n",
       "      <th>3</th>\n",
       "      <td>0.666667</td>\n",
       "      <td>0.333333</td>\n",
       "      <td>1</td>\n",
       "    </tr>\n",
       "    <tr>\n",
       "      <th>4</th>\n",
       "      <td>0.000000</td>\n",
       "      <td>0.666667</td>\n",
       "      <td>0</td>\n",
       "    </tr>\n",
       "  </tbody>\n",
       "</table>\n",
       "</div>"
      ],
      "text/plain": [
       "   home_pct  away_pct  home_win\n",
       "0  0.333333  0.666667         0\n",
       "1  1.000000  0.333333         1\n",
       "2  0.666667  0.666667         0\n",
       "3  0.666667  0.333333         1\n",
       "4  0.000000  0.666667         0"
      ]
     },
     "execution_count": 35,
     "metadata": {},
     "output_type": "execute_result"
    }
   ],
   "source": [
    "data.head()"
   ]
  },
  {
   "cell_type": "code",
   "execution_count": 57,
   "metadata": {},
   "outputs": [],
   "source": [
    "from sklearn.externals import joblib\n",
    "from sklearn.metrics import accuracy_score\n",
    "from sklearn.metrics import f1_score\n",
    "\n",
    "def evaluate(weeks_to_roll):\n",
    "    data = pd.read_csv(f\"output\\\\{weeks_to_roll}trainingdata.csv\")\n",
    "    \n",
    "    y = data.home_win\n",
    "    X = data.drop(\"home_win\", axis=1, inplace=False)\n",
    "    \n",
    "    model = joblib.load(f\"models\\\\{weeks_to_roll}_model.pkl\")\n",
    "    \n",
    "    y_predicted = model.predict(X)\n",
    "    \n",
    "    accuracy = accuracy_score(y, y_predicted)\n",
    "    f1 = f1_score(y, y_predicted)\n",
    "    \n",
    "    print(f\"{weeks_to_roll} accuracy: {accuracy}\")\n",
    "    print(f\"{weeks_to_roll} f1: {f1}\" )\n",
    "    \n",
    "    with open(f\"summary_{weeks_to_roll}.csv\", 'w') as f:\n",
    "        for i,v in enumerate(y):\n",
    "            f.write(f\"{y[i]},{y_predicted[i]}\\n\")"
   ]
  },
  {
   "cell_type": "code",
   "execution_count": 58,
   "metadata": {},
   "outputs": [
    {
     "name": "stdout",
     "output_type": "stream",
     "text": [
      "2 accuracy: 0.9672131147540983\n",
      "2 f1: 0.975609756097561\n",
      "3 accuracy: 0.8888888888888888\n",
      "3 f1: 0.9180327868852459\n",
      "4 accuracy: 0.9\n",
      "4 f1: 0.9268292682926829\n",
      "5 accuracy: 0.8\n",
      "5 f1: 0.8421052631578948\n"
     ]
    }
   ],
   "source": [
    "weeks = np.arange(2,6)\n",
    "\n",
    "for w in weeks:\n",
    "    evaluate(w)"
   ]
  },
  {
   "cell_type": "code",
   "execution_count": null,
   "metadata": {},
   "outputs": [],
   "source": [
    "weeks = np.arange"
   ]
  },
  {
   "cell_type": "code",
   "execution_count": null,
   "metadata": {},
   "outputs": [],
   "source": []
  }
 ],
 "metadata": {
  "kernelspec": {
   "display_name": "Python 3",
   "language": "python",
   "name": "python3"
  },
  "language_info": {
   "codemirror_mode": {
    "name": "ipython",
    "version": 3
   },
   "file_extension": ".py",
   "mimetype": "text/x-python",
   "name": "python",
   "nbconvert_exporter": "python",
   "pygments_lexer": "ipython3",
   "version": "3.6.4"
  }
 },
 "nbformat": 4,
 "nbformat_minor": 2
}
